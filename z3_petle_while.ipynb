{
 "cells": [
  {
   "cell_type": "markdown",
   "metadata": {},
   "source": [
    "# Pętla while"
   ]
  },
  {
   "cell_type": "markdown",
   "metadata": {},
   "source": [
    "Linki przypomnienie:\n",
    "* https://www.programiz.com/python-programming/online-compiler/\n",
    "* materiały z zajęć: https://github.com/asztyber/programowanie_python_22L"
   ]
  },
  {
   "cell_type": "code",
   "execution_count": null,
   "metadata": {},
   "outputs": [],
   "source": [
    "# wydrukować liczby od 5 do 0"
   ]
  },
  {
   "cell_type": "code",
   "execution_count": null,
   "metadata": {},
   "outputs": [],
   "source": [
    "x = 5\n",
    "while x >= 0:\n",
    "    print(x)\n",
    "    x = x - 1\n",
    "print('to już nie jest w pętli')"
   ]
  },
  {
   "cell_type": "markdown",
   "metadata": {},
   "source": [
    "### Zadanie 1\n",
    "Wydrukować liczby od 1 do 10 (pętlą while!)"
   ]
  },
  {
   "cell_type": "code",
   "execution_count": null,
   "metadata": {},
   "outputs": [],
   "source": []
  },
  {
   "cell_type": "markdown",
   "metadata": {},
   "source": [
    "### Pętla nieskończona"
   ]
  },
  {
   "cell_type": "code",
   "execution_count": null,
   "metadata": {},
   "outputs": [],
   "source": [
    "x = 5\n",
    "while x >= 0:\n",
    "    print(x)"
   ]
  },
  {
   "cell_type": "markdown",
   "metadata": {
    "collapsed": true
   },
   "source": [
    "### Zadanie 2\n",
    "\n",
    "1. Wczytywać liczby aż do napotkania 0\n",
    "2. Wydrukować ile wczytano liczb\n",
    "3. Wydrukować sumę wczytanych liczb\n",
    "4. Wydrukować średnią arytmetyczną wczytanych liczb\n",
    "\n",
    "(0 kończące ciąg uwzględniamy w wynikach)"
   ]
  },
  {
   "cell_type": "code",
   "execution_count": null,
   "metadata": {},
   "outputs": [],
   "source": []
  },
  {
   "cell_type": "code",
   "execution_count": null,
   "metadata": {},
   "outputs": [],
   "source": [
    "# nie uwzględniamy 0 wynikach\n"
   ]
  },
  {
   "cell_type": "markdown",
   "metadata": {},
   "source": [
    "### None\n",
    "nic - wygodne do używania jako wartość początkowa"
   ]
  },
  {
   "cell_type": "code",
   "execution_count": null,
   "metadata": {},
   "outputs": [],
   "source": [
    "x = None\n",
    "if x is None:\n",
    "    print('Brak wartości początkowej')"
   ]
  },
  {
   "cell_type": "code",
   "execution_count": null,
   "metadata": {},
   "outputs": [],
   "source": [
    "0 == None"
   ]
  },
  {
   "cell_type": "markdown",
   "metadata": {},
   "source": [
    "1. na początku po najmniejszą podstawiamy None\n",
    "2. Wczytujemy liczbę w pętli\n",
    "    * Potem jeśli najmniejsza jest None lub aktualna liczba jest mniejsza niż najmniejsza to podstawiamy aktualną liczbę"
   ]
  },
  {
   "cell_type": "markdown",
   "metadata": {},
   "source": [
    "### Zadanie 2\n",
    "Wczytywać liczby aż do napotkania 0. Wydrukować najmniejszą liczbę ciągu. Nie uwzględniać zera w wynikach."
   ]
  },
  {
   "cell_type": "code",
   "execution_count": null,
   "metadata": {},
   "outputs": [],
   "source": []
  },
  {
   "cell_type": "markdown",
   "metadata": {},
   "source": [
    "### Negacja logiczna\n",
    "not"
   ]
  },
  {
   "cell_type": "code",
   "execution_count": null,
   "metadata": {},
   "outputs": [],
   "source": [
    "x = 3"
   ]
  },
  {
   "cell_type": "code",
   "execution_count": null,
   "metadata": {},
   "outputs": [],
   "source": [
    "not (x < 3)"
   ]
  },
  {
   "cell_type": "markdown",
   "metadata": {},
   "source": [
    "### Zadanie 3\n",
    "Wymusić wpisanie liczby z przedziału < 0, 3\\>"
   ]
  },
  {
   "cell_type": "code",
   "execution_count": null,
   "metadata": {},
   "outputs": [],
   "source": []
  },
  {
   "cell_type": "markdown",
   "metadata": {},
   "source": [
    "### Przerywanie pętli\n",
    "- break - przerywa pętlę\n",
    "- continue - przerywa bieżący obieg pętli"
   ]
  },
  {
   "cell_type": "code",
   "execution_count": null,
   "metadata": {},
   "outputs": [],
   "source": [
    "# break\n",
    "x = 5\n",
    "while x >= 0:\n",
    "    x = x - 1\n",
    "    print(x)\n",
    "    if x == 2:\n",
    "        break"
   ]
  },
  {
   "cell_type": "code",
   "execution_count": null,
   "metadata": {},
   "outputs": [],
   "source": [
    "# continue\n",
    "x = 5\n",
    "while x >= 0:\n",
    "    x = x - 1\n",
    "    if x == 2:\n",
    "        continue\n",
    "    print(x)"
   ]
  },
  {
   "cell_type": "code",
   "execution_count": null,
   "metadata": {},
   "outputs": [],
   "source": [
    "# continue - pętla nieskończona wersja ciekawsza\n",
    "x = 5\n",
    "while x >= 0:\n",
    "    print(x)\n",
    "    if x == 2:\n",
    "        continue\n",
    "    # na te linijki działa continue\n",
    "    x = x - 1"
   ]
  },
  {
   "cell_type": "code",
   "execution_count": null,
   "metadata": {},
   "outputs": [],
   "source": []
  }
 ],
 "metadata": {
  "kernelspec": {
   "display_name": "Python 3 (ipykernel)",
   "language": "python",
   "name": "python3"
  },
  "language_info": {
   "codemirror_mode": {
    "name": "ipython",
    "version": 3
   },
   "file_extension": ".py",
   "mimetype": "text/x-python",
   "name": "python",
   "nbconvert_exporter": "python",
   "pygments_lexer": "ipython3",
   "version": "3.8.5"
  }
 },
 "nbformat": 4,
 "nbformat_minor": 1
}
