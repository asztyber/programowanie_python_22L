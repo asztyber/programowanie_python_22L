{
 "cells": [
  {
   "cell_type": "markdown",
   "metadata": {},
   "source": [
    "# Instrukcje warunkowe"
   ]
  },
  {
   "cell_type": "markdown",
   "metadata": {},
   "source": [
    "### Linki przypomnienie\n",
    "\n",
    "* materiały z zajęć: https://github.com/asztyber/programowanie_python_22L\n",
    "* uruchamianie programów\n",
    "    - notebooki (trzeba się zalogować kontem google): https://colab.research.google.com\n",
    "    - Online interpreter: https://www.programiz.com/python-programming/online-compiler/"
   ]
  },
  {
   "cell_type": "markdown",
   "metadata": {},
   "source": [
    "### Wczytywanie danych\n",
    "* Wczytujemy za pomocą funkcji input\n",
    "* Argumentem funkcji jest napis (komunikat dla użytkownika)\n",
    "* Funkcja zwraca napis (str)\n",
    "* Jeżeli chcemy wykorzystywać wczytane dane np. jako liczby to przeba dokonać konwersji"
   ]
  },
  {
   "cell_type": "code",
   "execution_count": 4,
   "metadata": {},
   "outputs": [
    {
     "name": "stdout",
     "output_type": "stream",
     "text": [
      "3\n"
     ]
    }
   ],
   "source": [
    "print(x)"
   ]
  },
  {
   "cell_type": "code",
   "execution_count": 5,
   "metadata": {},
   "outputs": [
    {
     "data": {
      "text/plain": [
       "str"
      ]
     },
     "execution_count": 5,
     "metadata": {},
     "output_type": "execute_result"
    }
   ],
   "source": [
    "type(x)"
   ]
  },
  {
   "cell_type": "code",
   "execution_count": 3,
   "metadata": {},
   "outputs": [
    {
     "name": "stdout",
     "output_type": "stream",
     "text": [
      "Podaj coś: 3\n"
     ]
    }
   ],
   "source": [
    "x = input('Podaj coś: ')"
   ]
  },
  {
   "cell_type": "code",
   "execution_count": 6,
   "metadata": {},
   "outputs": [
    {
     "name": "stdout",
     "output_type": "stream",
     "text": [
      "podano:  3\n"
     ]
    }
   ],
   "source": [
    "print('podano: ', x)"
   ]
  },
  {
   "cell_type": "markdown",
   "metadata": {},
   "source": [
    "Nazwy zmiennych bez polskich znaków"
   ]
  },
  {
   "cell_type": "markdown",
   "metadata": {},
   "source": [
    "### Zadanie 1\n",
    "* wczytać imię od użytkownika programu\n",
    "* wydrukować: Witaj [tu imię]!"
   ]
  },
  {
   "cell_type": "code",
   "execution_count": 9,
   "metadata": {},
   "outputs": [
    {
     "name": "stdout",
     "output_type": "stream",
     "text": [
      "Podaj imię: ania\n",
      "Witaj,  ania\n"
     ]
    }
   ],
   "source": [
    "imie = input('Podaj imię: ')\n",
    "print('Witaj, ', imie)"
   ]
  },
  {
   "cell_type": "markdown",
   "metadata": {},
   "source": [
    "### Prosty if"
   ]
  },
  {
   "cell_type": "code",
   "execution_count": 12,
   "metadata": {},
   "outputs": [],
   "source": [
    "a = 5\n",
    "if a < 5:\n",
    "    print(\"a jest mniejsze niż 5\")"
   ]
  },
  {
   "cell_type": "markdown",
   "metadata": {},
   "source": [
    "### Wcięcia\n",
    "\n",
    "wyznaczają bloki kodu w Python, pojedyncze wcięcie to 4 spacje"
   ]
  },
  {
   "cell_type": "code",
   "execution_count": 14,
   "metadata": {},
   "outputs": [
    {
     "name": "stdout",
     "output_type": "stream",
     "text": [
      "a jest mniejsze niż 5\n",
      "to też jest w if\n",
      "to nie jest w if\n"
     ]
    }
   ],
   "source": [
    "a = 3\n",
    "if a < 5:\n",
    "    print(\"a jest mniejsze niż 5\")\n",
    "    print(\"to też jest w if\")\n",
    "print(\"to nie jest w if\")"
   ]
  },
  {
   "cell_type": "code",
   "execution_count": 20,
   "metadata": {},
   "outputs": [],
   "source": [
    "a = 5"
   ]
  },
  {
   "cell_type": "code",
   "execution_count": 21,
   "metadata": {},
   "outputs": [
    {
     "data": {
      "text/plain": [
       "5"
      ]
     },
     "execution_count": 21,
     "metadata": {},
     "output_type": "execute_result"
    }
   ],
   "source": [
    "a"
   ]
  },
  {
   "cell_type": "code",
   "execution_count": 22,
   "metadata": {},
   "outputs": [
    {
     "data": {
      "text/plain": [
       "True"
      ]
     },
     "execution_count": 22,
     "metadata": {},
     "output_type": "execute_result"
    }
   ],
   "source": [
    "a == 5"
   ]
  },
  {
   "cell_type": "markdown",
   "metadata": {},
   "source": [
    "### Porównywanie\n",
    "\n",
    "- \\> większy\n",
    "- < mniejszy\n",
    "- \\>= większy lub równy\n",
    "- <= mniejszy lub równy\n",
    "- == porównanie (= to przypisanie)\n",
    "- != nierówny"
   ]
  },
  {
   "cell_type": "code",
   "execution_count": 23,
   "metadata": {},
   "outputs": [
    {
     "name": "stdout",
     "output_type": "stream",
     "text": [
      "a jest mniejsze niż 5\n"
     ]
    }
   ],
   "source": [
    "a = 2\n",
    "if a < 5:\n",
    "    print(\"a jest mniejsze niż 5\")"
   ]
  },
  {
   "cell_type": "markdown",
   "metadata": {},
   "source": [
    "### Zadanie 2\n",
    "* wczytać liczbę (funkcją input)\n",
    "* dokonać konwersji na typ int\n",
    "* wydrukować informację, czy wczytana liczba jest równa 2"
   ]
  },
  {
   "cell_type": "code",
   "execution_count": 30,
   "metadata": {},
   "outputs": [
    {
     "name": "stdout",
     "output_type": "stream",
     "text": [
      "Podaj liczbę: 4\n"
     ]
    }
   ],
   "source": [
    "x = input('Podaj liczbę: ') # wczytywanie\n",
    "x = int(x) # zamiana na typ int\n",
    "if x == 2:\n",
    "    print('x jest równy 2')"
   ]
  },
  {
   "cell_type": "markdown",
   "metadata": {},
   "source": [
    "### else"
   ]
  },
  {
   "cell_type": "code",
   "execution_count": 32,
   "metadata": {},
   "outputs": [
    {
     "name": "stdout",
     "output_type": "stream",
     "text": [
      "Podaj liczbę: 3\n",
      "x nie jest równe 2\n"
     ]
    }
   ],
   "source": [
    "x = input('Podaj liczbę: ')\n",
    "x = int(x)\n",
    "if x == 2:\n",
    "    print('x jest równe 2')\n",
    "else:\n",
    "    print('x nie jest równe 2')"
   ]
  },
  {
   "cell_type": "markdown",
   "metadata": {},
   "source": [
    "### Zadanie 3\n",
    "* wczytać dwie liczby (funkcją input)\n",
    "* dokonać konwersji na typ float\n",
    "* wydrukować większą z liczb"
   ]
  },
  {
   "cell_type": "code",
   "execution_count": 40,
   "metadata": {},
   "outputs": [
    {
     "name": "stdout",
     "output_type": "stream",
     "text": [
      "Podaj liczbe: 2\n",
      "Podaj liczbe: 2\n",
      "Liczby są równe\n"
     ]
    }
   ],
   "source": [
    "x = input('Podaj liczbe: ')\n",
    "x = float(x)\n",
    "y = input('Podaj liczbe: ')\n",
    "y = float(y)\n",
    "\n",
    "if x > y:\n",
    "    print(\"Wieksza liczba: \", x)\n",
    "\n",
    "if y > x:\n",
    "    print(\"Wieksza liczba: \", y)\n",
    "\n",
    "if x == y:\n",
    "    print('Liczby są równe')"
   ]
  },
  {
   "cell_type": "markdown",
   "metadata": {},
   "source": [
    "### elif"
   ]
  },
  {
   "cell_type": "code",
   "execution_count": 41,
   "metadata": {
    "scrolled": true
   },
   "outputs": [
    {
     "name": "stdout",
     "output_type": "stream",
     "text": [
      "Podaj pierwszą liczbę: 3\n",
      "Podaj drugą liczbę: 2\n",
      "Większe jest x:  3.0\n"
     ]
    }
   ],
   "source": [
    "x = float(input('Podaj pierwszą liczbę: '))\n",
    "y = float(input('Podaj drugą liczbę: '))\n",
    "\n",
    "if x > y:\n",
    "    print(\"Większe jest x: \", x)\n",
    "elif y > x:\n",
    "    print(\"Większe jest y: \", y)\n",
    "else: # dotyczy wszystkich poprzednich if-ów\n",
    "    print(\"Liczby są równe\")"
   ]
  },
  {
   "cell_type": "markdown",
   "metadata": {},
   "source": [
    "### Pytanie\n",
    "Który napis nigdy się nie wydrukuje?"
   ]
  },
  {
   "cell_type": "code",
   "execution_count": 45,
   "metadata": {},
   "outputs": [
    {
     "name": "stdout",
     "output_type": "stream",
     "text": [
      "d\n"
     ]
    }
   ],
   "source": [
    "x = 10\n",
    "if x < 1:\n",
    "    print(\"a\")\n",
    "elif x < 10:\n",
    "    print(\"b\")\n",
    "elif x < 5: \n",
    "    print(\"c\")\n",
    "else:\n",
    "    print(\"d\")"
   ]
  },
  {
   "cell_type": "markdown",
   "metadata": {},
   "source": [
    "### Warunki logiczne\n",
    "- and - i (iloczyn logiczny)\n",
    "- or - lub (suma logiczna)"
   ]
  },
  {
   "cell_type": "code",
   "execution_count": 52,
   "metadata": {},
   "outputs": [],
   "source": [
    "x = 4.5"
   ]
  },
  {
   "cell_type": "code",
   "execution_count": 49,
   "metadata": {},
   "outputs": [
    {
     "data": {
      "text/plain": [
       "True"
      ]
     },
     "execution_count": 49,
     "metadata": {},
     "output_type": "execute_result"
    }
   ],
   "source": [
    "x < 4 and x > 2"
   ]
  },
  {
   "cell_type": "code",
   "execution_count": 53,
   "metadata": {},
   "outputs": [
    {
     "data": {
      "text/plain": [
       "False"
      ]
     },
     "execution_count": 53,
     "metadata": {},
     "output_type": "execute_result"
    }
   ],
   "source": [
    "x < 4 or x > 5"
   ]
  },
  {
   "cell_type": "markdown",
   "metadata": {},
   "source": [
    "### Quiz"
   ]
  },
  {
   "cell_type": "markdown",
   "metadata": {},
   "source": [
    "### Zadanie 4\n",
    "Wczytać liczbę i wydrukować, czy jest dwucyfrowa (od 10 do 99)"
   ]
  },
  {
   "cell_type": "code",
   "execution_count": 55,
   "metadata": {},
   "outputs": [
    {
     "name": "stdout",
     "output_type": "stream",
     "text": [
      "Podaj liczbę: 13\n",
      "Liczba jest dwucufrowa\n"
     ]
    }
   ],
   "source": [
    "x = input('Podaj liczbę: ')\n",
    "x = int(x)\n",
    "\n",
    "if x >= 10 and x <= 99:\n",
    "    print('Liczba jest dwucyfrowa')"
   ]
  },
  {
   "cell_type": "markdown",
   "metadata": {},
   "source": [
    "### Zadanie 5 \n",
    "Wczytać trzy liczby. Wydrukować najmniejszą."
   ]
  },
  {
   "cell_type": "code",
   "execution_count": null,
   "metadata": {},
   "outputs": [],
   "source": [
    "# do testów a) 2 2 3, b) 2 3 3, c) 2 2 2\n",
    "x = int(input(\"Podaj pierwszą liczbę: \"))\n",
    "y = int(input(\"Podaj drugą liczbę: \"))\n",
    "z = int(input(\"Podaj trzecią liczbę: \"))\n"
   ]
  },
  {
   "cell_type": "code",
   "execution_count": null,
   "metadata": {},
   "outputs": [],
   "source": [
    "# TODO: rozwiązanie ze zmienną pomocniczą"
   ]
  },
  {
   "cell_type": "markdown",
   "metadata": {},
   "source": [
    "### Zadanie 6\n",
    "Wczytać liczbę. Jeżeli należy do przedziału < 0, 1000\\> to wydrukować ile ma cyfr."
   ]
  },
  {
   "cell_type": "code",
   "execution_count": null,
   "metadata": {},
   "outputs": [],
   "source": []
  },
  {
   "cell_type": "markdown",
   "metadata": {},
   "source": [
    "### Zadanie 7\n",
    "Wczytać współczynniki równania\n",
    "$$ a x^2 + b x + c = 0 $$\n",
    "wydrukować rozwiązanie (rozwiązania)."
   ]
  },
  {
   "cell_type": "code",
   "execution_count": null,
   "metadata": {},
   "outputs": [],
   "source": []
  }
 ],
 "metadata": {
  "anaconda-cloud": {},
  "kernelspec": {
   "display_name": "Python 3 (ipykernel)",
   "language": "python",
   "name": "python3"
  },
  "language_info": {
   "codemirror_mode": {
    "name": "ipython",
    "version": 3
   },
   "file_extension": ".py",
   "mimetype": "text/x-python",
   "name": "python",
   "nbconvert_exporter": "python",
   "pygments_lexer": "ipython3",
   "version": "3.8.5"
  }
 },
 "nbformat": 4,
 "nbformat_minor": 1
}
