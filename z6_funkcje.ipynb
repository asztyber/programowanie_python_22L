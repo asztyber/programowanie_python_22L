{
 "cells": [
  {
   "cell_type": "markdown",
   "metadata": {},
   "source": [
    "# Funkcje\n",
    "\n",
    "Funkcja - ciąg instrukcji zapisany pod jakąś nazwą i wywoływany za pomocą tej nazwy w programie\n",
    "\n",
    "Unikamy powtarzanie kodu:\n",
    "+ programy są krótsze\n",
    "+ łatwiejsza modyfikacja\n",
    "+ trudniej o błędy\n",
    "+ można napisać coś raz i wykorzystywać wielokrotnie\n",
    "+ można tworzyć biblioteki"
   ]
  },
  {
   "cell_type": "code",
   "execution_count": 1,
   "metadata": {},
   "outputs": [
    {
     "name": "stdout",
     "output_type": "stream",
     "text": [
      "cccc\n"
     ]
    }
   ],
   "source": [
    "# definicja funkcji\n",
    "def drukuj():\n",
    "    print('aaaa') # to jest wewnątrz funkcji\n",
    "    print('bbbbb') # to jest wewnątrz funkcji\n",
    "print('cccc') # to już nie"
   ]
  },
  {
   "cell_type": "code",
   "execution_count": 2,
   "metadata": {},
   "outputs": [
    {
     "name": "stdout",
     "output_type": "stream",
     "text": [
      "aaaa\n",
      "bbbbb\n"
     ]
    }
   ],
   "source": [
    "# wywołanie funkcji\n",
    "drukuj()"
   ]
  },
  {
   "cell_type": "markdown",
   "metadata": {},
   "source": [
    "### Przekazywanie parametrów do funkcji"
   ]
  },
  {
   "cell_type": "code",
   "execution_count": 3,
   "metadata": {},
   "outputs": [],
   "source": [
    "# wydrukować napis dwa razy - napis jest parametrem funkcji\n",
    "def drukuj_dwa_razy(napis):\n",
    "    print(napis)\n",
    "    print(napis)"
   ]
  },
  {
   "cell_type": "code",
   "execution_count": 4,
   "metadata": {},
   "outputs": [
    {
     "name": "stdout",
     "output_type": "stream",
     "text": [
      "abc\n",
      "abc\n"
     ]
    }
   ],
   "source": [
    "drukuj_dwa_razy('abc')"
   ]
  },
  {
   "cell_type": "markdown",
   "metadata": {},
   "source": [
    "### Zadanie 1\n",
    "Napisać funkcję, która przyjmuje jako parametr napis i drukuje go 15 razy."
   ]
  },
  {
   "cell_type": "code",
   "execution_count": null,
   "metadata": {},
   "outputs": [],
   "source": []
  },
  {
   "cell_type": "code",
   "execution_count": null,
   "metadata": {},
   "outputs": [],
   "source": [
    "drukuj15('aaa')"
   ]
  },
  {
   "cell_type": "code",
   "execution_count": 23,
   "metadata": {},
   "outputs": [],
   "source": [
    "# funkcja z kilkoma paramterami\n",
    "def funkcja_dwa_parametry(napis1, napis2):\n",
    "    print('napis1 = ', napis1)\n",
    "    print('napis2 = ', napis2)"
   ]
  },
  {
   "cell_type": "code",
   "execution_count": 25,
   "metadata": {},
   "outputs": [
    {
     "name": "stdout",
     "output_type": "stream",
     "text": [
      "napis1 =  bbb\n",
      "napis2 =  aaa\n"
     ]
    }
   ],
   "source": [
    "funkcja_dwa_parametry('bbb', 'aaa')"
   ]
  },
  {
   "cell_type": "markdown",
   "metadata": {},
   "source": [
    "### Zadanie 2\n",
    "Napisać funkcję, która przyjmuje jako parametry **napis** i **liczbę** i drukuje napis liczbę razy."
   ]
  },
  {
   "cell_type": "code",
   "execution_count": null,
   "metadata": {},
   "outputs": [],
   "source": []
  },
  {
   "cell_type": "code",
   "execution_count": 27,
   "metadata": {},
   "outputs": [
    {
     "name": "stdout",
     "output_type": "stream",
     "text": [
      "aaa\n",
      "aaa\n",
      "aaa\n",
      "aaa\n",
      "aaa\n",
      "aaa\n",
      "aaa\n",
      "aaa\n",
      "aaa\n",
      "aaa\n"
     ]
    }
   ],
   "source": [
    "drukuj_liczbe_razy('aaa', 10) # powinno wydrukować aaa 10 razy"
   ]
  },
  {
   "cell_type": "markdown",
   "metadata": {},
   "source": [
    "### Zwracanie wartości\n",
    "* wartość do zwrócenia podajemy po słowie kluczowym return\n",
    "* return kończy funkcję (nic, co jest później już się nie wykona)"
   ]
  },
  {
   "cell_type": "code",
   "execution_count": 5,
   "metadata": {},
   "outputs": [],
   "source": [
    "def suma(liczba1, liczba2):\n",
    "    return liczba1 + liczba2"
   ]
  },
  {
   "cell_type": "code",
   "execution_count": 7,
   "metadata": {},
   "outputs": [
    {
     "name": "stdout",
     "output_type": "stream",
     "text": [
      "wartość x =  5\n"
     ]
    }
   ],
   "source": [
    "x = suma(2, 3)\n",
    "print('wartość x = ', x)"
   ]
  },
  {
   "cell_type": "markdown",
   "metadata": {},
   "source": [
    "return **kończy** funkcję"
   ]
  },
  {
   "cell_type": "code",
   "execution_count": 8,
   "metadata": {},
   "outputs": [],
   "source": [
    "# funkcja z czymś po return\n",
    "def suma2(liczba1, liczba2):\n",
    "    wynik = liczba1 + liczba2\n",
    "    return wynik\n",
    "    print('aaa') # to się nie wykona nigdy"
   ]
  },
  {
   "cell_type": "code",
   "execution_count": 10,
   "metadata": {},
   "outputs": [
    {
     "name": "stdout",
     "output_type": "stream",
     "text": [
      "wartość x =  5\n"
     ]
    }
   ],
   "source": [
    "x = suma2(2, 3)\n",
    "print('wartość x = ', x)"
   ]
  },
  {
   "cell_type": "markdown",
   "metadata": {},
   "source": [
    "### Zadanie 3\n",
    "Napisać funkcję, któa jako argumenty przyjmuje dwie liczby i zwraca ich iloczyn"
   ]
  },
  {
   "cell_type": "code",
   "execution_count": null,
   "metadata": {},
   "outputs": [],
   "source": []
  },
  {
   "cell_type": "markdown",
   "metadata": {},
   "source": [
    "### Zadanie 4\n",
    "Napisać funkcję, która:\n",
    "* dla liczby 1 zwróci napis \"jeden!\"\n",
    "* dla liczby 2 zwróci napis \"dwa!\"\n",
    "* dla liczby 3 zwróci napis \"trzy!\"\n",
    "* dla innych liczb zwróci napis \"nie znam takiej liczby\""
   ]
  },
  {
   "cell_type": "code",
   "execution_count": 39,
   "metadata": {},
   "outputs": [],
   "source": []
  },
  {
   "cell_type": "code",
   "execution_count": 43,
   "metadata": {},
   "outputs": [
    {
     "name": "stdout",
     "output_type": "stream",
     "text": [
      "nie znam takiej liczby\n"
     ]
    }
   ],
   "source": [
    "wynik = liczba_na_napis(0)\n",
    "print(wynik)"
   ]
  },
  {
   "cell_type": "markdown",
   "metadata": {},
   "source": [
    "### Zakres zmiennych\n",
    "* zmienne zadeklarowane wewnątrz funkcji są dostępne tylko w funkcji (na zewnątrz funkcji już nie)"
   ]
  },
  {
   "cell_type": "code",
   "execution_count": 1,
   "metadata": {},
   "outputs": [],
   "source": [
    "# funkcja ze zmienną lokalną\n",
    "def funkcja(x):\n",
    "    b = x + 1\n",
    "    print('x= ', x)\n",
    "    print('b= ', b)"
   ]
  },
  {
   "cell_type": "code",
   "execution_count": 2,
   "metadata": {},
   "outputs": [
    {
     "name": "stdout",
     "output_type": "stream",
     "text": [
      "x=  10\n",
      "b=  11\n"
     ]
    }
   ],
   "source": [
    "funkcja(10)"
   ]
  },
  {
   "cell_type": "code",
   "execution_count": 4,
   "metadata": {},
   "outputs": [
    {
     "ename": "NameError",
     "evalue": "name 'b' is not defined",
     "output_type": "error",
     "traceback": [
      "\u001b[1;31m---------------------------------------------------------------------------\u001b[0m",
      "\u001b[1;31mNameError\u001b[0m                                 Traceback (most recent call last)",
      "\u001b[1;32m<ipython-input-4-89e6c98d9288>\u001b[0m in \u001b[0;36m<module>\u001b[1;34m\u001b[0m\n\u001b[1;32m----> 1\u001b[1;33m \u001b[0mb\u001b[0m\u001b[1;33m\u001b[0m\u001b[1;33m\u001b[0m\u001b[0m\n\u001b[0m",
      "\u001b[1;31mNameError\u001b[0m: name 'b' is not defined"
     ]
    }
   ],
   "source": [
    "b"
   ]
  },
  {
   "cell_type": "markdown",
   "metadata": {},
   "source": [
    "### Zadanie 5\n",
    "\n",
    "Napisać funkcję, która liczy pole koła o danym promieniu"
   ]
  },
  {
   "cell_type": "code",
   "execution_count": 11,
   "metadata": {},
   "outputs": [],
   "source": [
    "# przypomnienie pi * r^2\n"
   ]
  },
  {
   "cell_type": "markdown",
   "metadata": {},
   "source": [
    "### Zadanie 5\n",
    "\n",
    "napisać funkcję, która dany **znak** drukuje **5** razy (bez enterów) \n",
    "\n",
    "drukuj('a') daje aaaaa"
   ]
  },
  {
   "cell_type": "code",
   "execution_count": null,
   "metadata": {},
   "outputs": [],
   "source": []
  },
  {
   "cell_type": "markdown",
   "metadata": {},
   "source": [
    "### Zadanie 6\n",
    "\n",
    "napisać funkcję, która dany **znak** drukuje **liczbę** razy (bez enterów) \n",
    "\n",
    "drukuj('a', 4) daje:\n",
    "aaaa"
   ]
  },
  {
   "cell_type": "code",
   "execution_count": null,
   "metadata": {},
   "outputs": [],
   "source": []
  },
  {
   "cell_type": "markdown",
   "metadata": {},
   "source": [
    "### Zadanie 7\n",
    "\n",
    "napisać funkcję, która dany **znak** drukuje **liczbę** razy w **4** rzędach \n",
    "\n",
    "drukuj('a', 3) daje:\n",
    "\n",
    "aaa  \n",
    "aaa  \n",
    "aaa  \n",
    "aaa  "
   ]
  },
  {
   "cell_type": "code",
   "execution_count": null,
   "metadata": {},
   "outputs": [],
   "source": []
  },
  {
   "cell_type": "markdown",
   "metadata": {},
   "source": [
    "### Zadanie 8\n",
    "\n",
    "napisać funkcję, która dany **znak** drukuje **liczbę** razy w **iluś** rzędach \n",
    "\n",
    "drukuj('a', 3, 2) daje:\n",
    "\n",
    "aaa  \n",
    "aaa"
   ]
  },
  {
   "cell_type": "code",
   "execution_count": null,
   "metadata": {},
   "outputs": [],
   "source": []
  },
  {
   "cell_type": "markdown",
   "metadata": {},
   "source": [
    "### Zadanie 9\n",
    "\n",
    "Napisać funkcję, która jako parametry przyjmuje znak i wysokość i  drukuje trójkąt\n",
    "\n",
    "a\n",
    "\n",
    "aa\n",
    "\n",
    "aaa\n",
    "\n",
    "aaaa\n",
    "\n",
    "Bonus: trójkąt symetryczny\n",
    "\n",
    "Bonus ++: choinka"
   ]
  },
  {
   "cell_type": "code",
   "execution_count": null,
   "metadata": {},
   "outputs": [],
   "source": []
  }
 ],
 "metadata": {
  "kernelspec": {
   "display_name": "Python 3",
   "language": "python",
   "name": "python3"
  },
  "language_info": {
   "codemirror_mode": {
    "name": "ipython",
    "version": 3
   },
   "file_extension": ".py",
   "mimetype": "text/x-python",
   "name": "python",
   "nbconvert_exporter": "python",
   "pygments_lexer": "ipython3",
   "version": "3.8.10"
  }
 },
 "nbformat": 4,
 "nbformat_minor": 2
}
