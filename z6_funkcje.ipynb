{
 "cells": [
  {
   "cell_type": "markdown",
   "metadata": {},
   "source": [
    "# Funkcje\n",
    "\n",
    "Funkcja - ciąg instrukcji zapisany pod jakąś nazwą i wywoływany za pomocą tej nazwy w programie\n",
    "\n",
    "Unikamy powtarzanie kodu:\n",
    "+ programy są krótsze\n",
    "+ łatwiejsza modyfikacja\n",
    "+ trudniej o błędy\n",
    "+ można napisać coś raz i wykorzystywać wielokrotnie\n",
    "+ można tworzyć biblioteki"
   ]
  },
  {
   "cell_type": "code",
   "execution_count": 1,
   "metadata": {},
   "outputs": [
    {
     "name": "stdout",
     "output_type": "stream",
     "text": [
      "cccc\n"
     ]
    }
   ],
   "source": [
    "# definicja funkcji\n",
    "def drukuj():\n",
    "    print('aaaa') # to jest wewnątrz funkcji\n",
    "    print('bbbbb') # to jest wewnątrz funkcji\n",
    "print('cccc') # to już nie"
   ]
  },
  {
   "cell_type": "code",
   "execution_count": 2,
   "metadata": {},
   "outputs": [
    {
     "name": "stdout",
     "output_type": "stream",
     "text": [
      "aaaa\n",
      "bbbbb\n"
     ]
    }
   ],
   "source": [
    "# wywołanie funkcji\n",
    "drukuj()"
   ]
  },
  {
   "cell_type": "markdown",
   "metadata": {},
   "source": [
    "### Przekazywanie parametrów do funkcji"
   ]
  },
  {
   "cell_type": "code",
   "execution_count": 3,
   "metadata": {},
   "outputs": [],
   "source": [
    "# wydrukować napis dwa razy - napis jest parametrem funkcji\n",
    "def drukuj_dwa_razy(napis):\n",
    "    print(napis)\n",
    "    print(napis)"
   ]
  },
  {
   "cell_type": "code",
   "execution_count": 6,
   "metadata": {},
   "outputs": [
    {
     "name": "stdout",
     "output_type": "stream",
     "text": [
      "abc\n",
      "abc\n"
     ]
    }
   ],
   "source": [
    "drukuj_dwa_razy('abc')"
   ]
  },
  {
   "cell_type": "markdown",
   "metadata": {},
   "source": [
    "### Zadanie 1\n",
    "Napisać funkcję, która przyjmuje jako parametr napis i drukuje go 15 razy."
   ]
  },
  {
   "cell_type": "code",
   "execution_count": null,
   "metadata": {},
   "outputs": [],
   "source": [
    "def drukuj15(napis):\n",
    "    for i in range(15):\n",
    "        print(napis)"
   ]
  },
  {
   "cell_type": "code",
   "execution_count": null,
   "metadata": {},
   "outputs": [],
   "source": [
    "drukuj15('aaa')"
   ]
  },
  {
   "cell_type": "code",
   "execution_count": null,
   "metadata": {},
   "outputs": [],
   "source": [
    "# funkcja z kilkoma paramterami\n",
    "def funkcja_dwa_parametry(napis1, napis2):\n",
    "    print('napis1 = ', napis1)\n",
    "    print('napis2 = ', napis2)"
   ]
  },
  {
   "cell_type": "code",
   "execution_count": null,
   "metadata": {},
   "outputs": [],
   "source": [
    "funkcja_dwa_parametry('bbb', 'aaa')"
   ]
  },
  {
   "cell_type": "markdown",
   "metadata": {},
   "source": [
    "### Zadanie 2\n",
    "Napisać funkcję, która przyjmuje jako parametry **napis** i **liczbę** i drukuje napis liczbę razy."
   ]
  },
  {
   "cell_type": "code",
   "execution_count": 7,
   "metadata": {},
   "outputs": [],
   "source": [
    "def drukuj_liczbe_razy(napis, ile_razy):\n",
    "    for i in range(ile_razy):\n",
    "        print(napis)"
   ]
  },
  {
   "cell_type": "code",
   "execution_count": 9,
   "metadata": {},
   "outputs": [
    {
     "name": "stdout",
     "output_type": "stream",
     "text": [
      "aaa\n",
      "aaa\n",
      "aaa\n",
      "aaa\n",
      "aaa\n",
      "aaa\n",
      "aaa\n",
      "aaa\n",
      "aaa\n",
      "aaa\n",
      "aaa\n",
      "aaa\n",
      "aaa\n",
      "aaa\n",
      "aaa\n"
     ]
    }
   ],
   "source": [
    "drukuj_liczbe_razy('aaa', 15) # powinno wydrukować aaa 10 razy"
   ]
  },
  {
   "cell_type": "markdown",
   "metadata": {},
   "source": [
    "# Funkcje cd"
   ]
  },
  {
   "cell_type": "markdown",
   "metadata": {},
   "source": [
    "### Zwracanie wartości\n",
    "* wartość do zwrócenia podajemy po słowie kluczowym return\n",
    "* return kończy funkcję (nic, co jest później już się nie wykona)"
   ]
  },
  {
   "cell_type": "code",
   "execution_count": 10,
   "metadata": {},
   "outputs": [],
   "source": [
    "# funkcja sumująca dwie liczby\n",
    "def suma(liczba1, liczba2):\n",
    "    return liczba1 + liczba2"
   ]
  },
  {
   "cell_type": "code",
   "execution_count": 14,
   "metadata": {},
   "outputs": [
    {
     "name": "stdout",
     "output_type": "stream",
     "text": [
      "wartość x =  15\n"
     ]
    }
   ],
   "source": [
    "x = suma(10, 5)\n",
    "print('wartość x = ', x)"
   ]
  },
  {
   "cell_type": "code",
   "execution_count": 13,
   "metadata": {},
   "outputs": [
    {
     "name": "stdout",
     "output_type": "stream",
     "text": [
      "5\n"
     ]
    }
   ],
   "source": [
    "print(suma(2, 3))"
   ]
  },
  {
   "cell_type": "markdown",
   "metadata": {},
   "source": [
    "return **kończy** funkcję"
   ]
  },
  {
   "cell_type": "code",
   "execution_count": 24,
   "metadata": {},
   "outputs": [],
   "source": [
    "# funkcja z czymś po return\n",
    "def suma2(liczba1, liczba2):\n",
    "    wynik = liczba1 + liczba2\n",
    "    return wynik\n",
    "    print('aaa') # to się nie wykona nigdy\n",
    "    print('bbb')\n",
    "    print('ccc')"
   ]
  },
  {
   "cell_type": "code",
   "execution_count": 25,
   "metadata": {},
   "outputs": [
    {
     "name": "stdout",
     "output_type": "stream",
     "text": [
      "wartość x =  5\n"
     ]
    }
   ],
   "source": [
    "x = suma2(2, 3)\n",
    "print('wartość x = ', x)"
   ]
  },
  {
   "cell_type": "markdown",
   "metadata": {},
   "source": [
    "### Zadanie 3\n",
    "Napisać funkcję, która jako argumenty przyjmuje dwie liczby i zwraca ich iloczyn"
   ]
  },
  {
   "cell_type": "code",
   "execution_count": 15,
   "metadata": {},
   "outputs": [],
   "source": [
    "def mnozenie(x, y):\n",
    "    wynik = x * y\n",
    "    return wynik"
   ]
  },
  {
   "cell_type": "code",
   "execution_count": 17,
   "metadata": {},
   "outputs": [],
   "source": [
    "z = mnozenie(4, 3)"
   ]
  },
  {
   "cell_type": "code",
   "execution_count": 19,
   "metadata": {},
   "outputs": [
    {
     "name": "stdout",
     "output_type": "stream",
     "text": [
      "12\n"
     ]
    }
   ],
   "source": [
    "print(z)"
   ]
  },
  {
   "cell_type": "markdown",
   "metadata": {},
   "source": [
    "### Zadanie 4\n",
    "Napisać funkcję, która:\n",
    "* dla liczby 1 zwróci napis \"jeden!\"\n",
    "* dla liczby 2 zwróci napis \"dwa!\"\n",
    "* dla liczby 3 zwróci napis \"trzy!\"\n",
    "* dla innych liczb zwróci napis \"nie znam takiej liczby\""
   ]
  },
  {
   "cell_type": "code",
   "execution_count": 49,
   "metadata": {},
   "outputs": [],
   "source": [
    "def liczba_na_napis(liczba):\n",
    "    napis = \"\"\n",
    "    if liczba == 1:\n",
    "        napis = \"jeden!\"\n",
    "    elif liczba == 2:\n",
    "        napis = \"dwa!\"\n",
    "    elif liczba == 3:\n",
    "        napis = \"trzy!\"\n",
    "    else:\n",
    "        napis = \"nie znam takiej liczby\"\n",
    "    return napis"
   ]
  },
  {
   "cell_type": "code",
   "execution_count": 50,
   "metadata": {},
   "outputs": [
    {
     "name": "stdout",
     "output_type": "stream",
     "text": [
      "jeden!\n"
     ]
    }
   ],
   "source": [
    "wynik = liczba_na_napis(1)\n",
    "print(wynik)"
   ]
  },
  {
   "cell_type": "code",
   "execution_count": 60,
   "metadata": {},
   "outputs": [],
   "source": [
    "def liczba_na_napis2(liczba):\n",
    "    if liczba == 1:\n",
    "        return \"jeden!\"\n",
    "    if liczba == 2:\n",
    "        return \"dwa!\"\n",
    "    if liczba == 3:\n",
    "        return \"trzy!\"\n",
    "    return \"nie znam takiej liczby\""
   ]
  },
  {
   "cell_type": "code",
   "execution_count": 61,
   "metadata": {},
   "outputs": [
    {
     "name": "stdout",
     "output_type": "stream",
     "text": [
      "jeden!\n"
     ]
    }
   ],
   "source": [
    "wynik = liczba_na_napis2(1)\n",
    "print(wynik)"
   ]
  },
  {
   "cell_type": "code",
   "execution_count": 31,
   "metadata": {},
   "outputs": [
    {
     "name": "stdout",
     "output_type": "stream",
     "text": [
      "inna liczba\n"
     ]
    }
   ],
   "source": [
    "liczba = 1\n",
    "if liczba == 5:\n",
    "    print(\"liczba równa 5\")\n",
    "elif liczba == 2:\n",
    "    print(\"liczba równa 2\")\n",
    "else:\n",
    "    print(\"inna liczba\")"
   ]
  },
  {
   "cell_type": "markdown",
   "metadata": {},
   "source": [
    "### Zakres zmiennych\n",
    "* zmienne zadeklarowane wewnątrz funkcji są dostępne tylko w funkcji (na zewnątrz funkcji już nie)"
   ]
  },
  {
   "cell_type": "code",
   "execution_count": 62,
   "metadata": {},
   "outputs": [],
   "source": [
    "# funkcja ze zmienną lokalną\n",
    "def funkcja(x):\n",
    "    b = x + 1\n",
    "    print('x= ', x)\n",
    "    print('b= ', b)"
   ]
  },
  {
   "cell_type": "code",
   "execution_count": 63,
   "metadata": {},
   "outputs": [
    {
     "name": "stdout",
     "output_type": "stream",
     "text": [
      "x=  10\n",
      "b=  11\n"
     ]
    }
   ],
   "source": [
    "funkcja(10)"
   ]
  },
  {
   "cell_type": "code",
   "execution_count": 65,
   "metadata": {},
   "outputs": [],
   "source": [
    "c = 12"
   ]
  },
  {
   "cell_type": "code",
   "execution_count": 66,
   "metadata": {},
   "outputs": [
    {
     "data": {
      "text/plain": [
       "12"
      ]
     },
     "execution_count": 66,
     "metadata": {},
     "output_type": "execute_result"
    }
   ],
   "source": [
    "c"
   ]
  },
  {
   "cell_type": "code",
   "execution_count": 64,
   "metadata": {},
   "outputs": [
    {
     "ename": "NameError",
     "evalue": "name 'b' is not defined",
     "output_type": "error",
     "traceback": [
      "\u001b[0;31m---------------------------------------------------------------------------\u001b[0m",
      "\u001b[0;31mNameError\u001b[0m                                 Traceback (most recent call last)",
      "\u001b[0;32m<ipython-input-64-89e6c98d9288>\u001b[0m in \u001b[0;36m<module>\u001b[0;34m\u001b[0m\n\u001b[0;32m----> 1\u001b[0;31m \u001b[0mb\u001b[0m\u001b[0;34m\u001b[0m\u001b[0;34m\u001b[0m\u001b[0m\n\u001b[0m",
      "\u001b[0;31mNameError\u001b[0m: name 'b' is not defined"
     ]
    }
   ],
   "source": [
    "b"
   ]
  },
  {
   "cell_type": "markdown",
   "metadata": {},
   "source": [
    "### Zadanie 5\n",
    "\n",
    "Napisać funkcję, która liczy pole koła o danym promieniu"
   ]
  },
  {
   "cell_type": "code",
   "execution_count": 67,
   "metadata": {},
   "outputs": [],
   "source": [
    "import math\n",
    "\n",
    "def pole_kola(r):\n",
    "    return math.pi * r ** 2"
   ]
  },
  {
   "cell_type": "code",
   "execution_count": 69,
   "metadata": {},
   "outputs": [
    {
     "data": {
      "text/plain": [
       "12.566370614359172"
      ]
     },
     "execution_count": 69,
     "metadata": {},
     "output_type": "execute_result"
    }
   ],
   "source": [
    "pole_kola(2)"
   ]
  },
  {
   "cell_type": "markdown",
   "metadata": {},
   "source": [
    "### Zadanie 5\n",
    "\n",
    "napisać funkcję, która dany **znak** drukuje **5** razy (bez enterów) \n",
    "\n",
    "drukuj('a') daje aaaaa"
   ]
  },
  {
   "cell_type": "code",
   "execution_count": null,
   "metadata": {},
   "outputs": [],
   "source": []
  },
  {
   "cell_type": "markdown",
   "metadata": {},
   "source": [
    "### Zadanie 6\n",
    "\n",
    "napisać funkcję, która dany **znak** drukuje **liczbę** razy (bez enterów) \n",
    "\n",
    "drukuj('a', 4) daje:\n",
    "aaaa"
   ]
  },
  {
   "cell_type": "code",
   "execution_count": null,
   "metadata": {},
   "outputs": [],
   "source": []
  },
  {
   "cell_type": "markdown",
   "metadata": {},
   "source": [
    "### Zadanie 7\n",
    "\n",
    "napisać funkcję, która dany **znak** drukuje **liczbę** razy w **4** rzędach \n",
    "\n",
    "drukuj('a', 3) daje:\n",
    "\n",
    "aaa  \n",
    "aaa  \n",
    "aaa  \n",
    "aaa  "
   ]
  },
  {
   "cell_type": "code",
   "execution_count": null,
   "metadata": {},
   "outputs": [],
   "source": []
  },
  {
   "cell_type": "markdown",
   "metadata": {},
   "source": [
    "### Zadanie 8\n",
    "\n",
    "napisać funkcję, która dany **znak** drukuje **liczbę** razy w **iluś** rzędach \n",
    "\n",
    "drukuj('a', 3, 2) daje:\n",
    "\n",
    "aaa  \n",
    "aaa"
   ]
  },
  {
   "cell_type": "code",
   "execution_count": null,
   "metadata": {},
   "outputs": [],
   "source": []
  },
  {
   "cell_type": "markdown",
   "metadata": {},
   "source": [
    "### Zadanie 9\n",
    "\n",
    "Napisać funkcję, która jako parametry przyjmuje znak i wysokość i  drukuje trójkąt\n",
    "\n",
    "a\n",
    "\n",
    "aa\n",
    "\n",
    "aaa\n",
    "\n",
    "aaaa\n",
    "\n",
    "Bonus: trójkąt symetryczny\n",
    "\n",
    "Bonus ++: choinka"
   ]
  },
  {
   "cell_type": "code",
   "execution_count": null,
   "metadata": {},
   "outputs": [],
   "source": []
  }
 ],
 "metadata": {
  "kernelspec": {
   "display_name": "Python 3",
   "language": "python",
   "name": "python3"
  },
  "language_info": {
   "codemirror_mode": {
    "name": "ipython",
    "version": 3
   },
   "file_extension": ".py",
   "mimetype": "text/x-python",
   "name": "python",
   "nbconvert_exporter": "python",
   "pygments_lexer": "ipython3",
   "version": "3.8.10"
  }
 },
 "nbformat": 4,
 "nbformat_minor": 2
}
