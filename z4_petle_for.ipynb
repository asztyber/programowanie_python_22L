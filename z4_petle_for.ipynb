{
 "cells": [
  {
   "cell_type": "markdown",
   "metadata": {},
   "source": [
    "# Pętla for"
   ]
  },
  {
   "cell_type": "markdown",
   "metadata": {},
   "source": [
    "### Pętla while przypomnienie"
   ]
  },
  {
   "cell_type": "code",
   "execution_count": 2,
   "metadata": {},
   "outputs": [
    {
     "name": "stdout",
     "output_type": "stream",
     "text": [
      "1\n",
      "2\n",
      "3\n",
      "4\n",
      "5\n"
     ]
    }
   ],
   "source": [
    "# wydrukuj liczby od 1 do 5\n",
    "x = 1\n",
    "while x <= 5:\n",
    "    print(x)\n",
    "    x = x + 1"
   ]
  },
  {
   "cell_type": "markdown",
   "metadata": {},
   "source": [
    "## Lista\n",
    "\n",
    "Lista uporządkowanych elementów, zapisujemy z zastosowaniem [], rozdzielając elementy przecinkami (później będzie więcej)."
   ]
  },
  {
   "cell_type": "code",
   "execution_count": 6,
   "metadata": {},
   "outputs": [
    {
     "name": "stdout",
     "output_type": "stream",
     "text": [
      "['aaa', 'bbb', 'ccc']\n",
      "aaa bbb ccc\n"
     ]
    }
   ],
   "source": [
    "lista = ['aaa', 'bbb', 'ccc']\n",
    "print(lista)\n",
    "print('aaa', 'bbb', 'ccc')"
   ]
  },
  {
   "cell_type": "markdown",
   "metadata": {},
   "source": [
    "## Pętla for\n",
    "- zazwyczaj o znanej liczbie iteracji\n",
    "- \"zrób coś dla każdego elementu z\"\n",
    "- służy do przetworzenia wszystkich elementów listy, pliku, ..."
   ]
  },
  {
   "cell_type": "code",
   "execution_count": 8,
   "metadata": {},
   "outputs": [
    {
     "name": "stdout",
     "output_type": "stream",
     "text": [
      "aaa\n",
      "bbb\n",
      "ccc\n"
     ]
    }
   ],
   "source": [
    "print('aaa')\n",
    "print('bbb')\n",
    "print('ccc')"
   ]
  },
  {
   "cell_type": "code",
   "execution_count": 9,
   "metadata": {},
   "outputs": [
    {
     "name": "stdout",
     "output_type": "stream",
     "text": [
      "napis:  aaa\n",
      "napis:  bbb\n",
      "napis:  ccc\n"
     ]
    }
   ],
   "source": [
    "lista = ['aaa', 'bbb', 'ccc']\n",
    "for napis in lista:\n",
    "    print('napis: ', napis)"
   ]
  },
  {
   "cell_type": "markdown",
   "metadata": {},
   "source": [
    "### Zadanie 1\n",
    "* zdefiniować listę zawierającą 5 liczb (dowolnych)\n",
    "* dla każdej liczby na liście drukować \"Liczba: \" i liczbę (pętlą for)"
   ]
  },
  {
   "cell_type": "code",
   "execution_count": 15,
   "metadata": {},
   "outputs": [
    {
     "name": "stdout",
     "output_type": "stream",
     "text": [
      "liczba:  1\n",
      "liczba:  2\n",
      "liczba:  3\n",
      "liczba:  4\n",
      "liczba:  5\n"
     ]
    }
   ],
   "source": [
    "lista = [1, 2, 3, 4, 5]\n",
    "# definiujemy zmienną suma o wartości początkowej 0\n",
    "for liczba in lista:\n",
    "    print('liczba: ', liczba)\n",
    "    # dodajemy aktualną wartość zmiennej liczba do zmiennej suma"
   ]
  },
  {
   "cell_type": "markdown",
   "metadata": {},
   "source": [
    "### Zadanie 2\n",
    "Policzyć sumę liczb na liście z zadania 1"
   ]
  },
  {
   "cell_type": "code",
   "execution_count": 18,
   "metadata": {},
   "outputs": [
    {
     "name": "stdout",
     "output_type": "stream",
     "text": [
      "15\n"
     ]
    }
   ],
   "source": [
    "lista = [1, 2, 3, 4, 5]\n",
    "suma = 0\n",
    "for liczba in lista:\n",
    "    suma = suma + liczba\n",
    "print(suma)"
   ]
  },
  {
   "cell_type": "markdown",
   "metadata": {},
   "source": [
    "## Range\n",
    "Zakres liczb całkowitych od 0 do n-1"
   ]
  },
  {
   "cell_type": "code",
   "execution_count": 19,
   "metadata": {},
   "outputs": [
    {
     "data": {
      "text/plain": [
       "range(0, 5)"
      ]
     },
     "execution_count": 19,
     "metadata": {},
     "output_type": "execute_result"
    }
   ],
   "source": [
    "# generator - leniwy\n",
    "range(5)"
   ]
  },
  {
   "cell_type": "code",
   "execution_count": 20,
   "metadata": {},
   "outputs": [
    {
     "name": "stdout",
     "output_type": "stream",
     "text": [
      "[0, 1, 2, 3, 4]\n"
     ]
    }
   ],
   "source": [
    "print(list(range(5)))"
   ]
  },
  {
   "cell_type": "code",
   "execution_count": 24,
   "metadata": {},
   "outputs": [
    {
     "name": "stdout",
     "output_type": "stream",
     "text": [
      "0\n",
      "aaa\n",
      "1\n",
      "aaa\n",
      "2\n",
      "aaa\n",
      "3\n",
      "aaa\n",
      "4\n",
      "aaa\n"
     ]
    }
   ],
   "source": [
    "for i in range(5):\n",
    "    print(i)\n",
    "    print('aaa')"
   ]
  },
  {
   "cell_type": "markdown",
   "metadata": {},
   "source": [
    "### Zadanie 3\n",
    "Wydrukować 15 razy napis \"python\" (z wykorzystaniem pętli for i range)"
   ]
  },
  {
   "cell_type": "code",
   "execution_count": null,
   "metadata": {},
   "outputs": [],
   "source": [
    "range(5) # liczby od 0 do 4 (5 - 1)\n",
    "# 0, 1, 2, 3, 4"
   ]
  },
  {
   "cell_type": "markdown",
   "metadata": {},
   "source": [
    "## Losowanie"
   ]
  },
  {
   "cell_type": "code",
   "execution_count": 25,
   "metadata": {},
   "outputs": [],
   "source": [
    "import random"
   ]
  },
  {
   "cell_type": "code",
   "execution_count": 37,
   "metadata": {},
   "outputs": [
    {
     "data": {
      "text/plain": [
       "4"
      ]
     },
     "execution_count": 37,
     "metadata": {},
     "output_type": "execute_result"
    }
   ],
   "source": [
    "random.randint(2, 5)"
   ]
  },
  {
   "cell_type": "code",
   "execution_count": 38,
   "metadata": {},
   "outputs": [
    {
     "data": {
      "text/plain": [
       "[3, 3, 3, 3, 3]"
      ]
     },
     "execution_count": 38,
     "metadata": {},
     "output_type": "execute_result"
    }
   ],
   "source": [
    "[3 for i in range(5)] "
   ]
  },
  {
   "cell_type": "code",
   "execution_count": 39,
   "metadata": {},
   "outputs": [
    {
     "name": "stdout",
     "output_type": "stream",
     "text": [
      "[5, 4, 5, 4, 3, 2, 5, 5]\n"
     ]
    }
   ],
   "source": [
    "import random\n",
    "# lista 8 losowych liczb całkowitych z zakresu <2, 5>\n",
    "dane = [random.randint(2, 5) for i in range(8)] \n",
    "print(dane)"
   ]
  },
  {
   "cell_type": "markdown",
   "metadata": {},
   "source": [
    "### Zadanie 4\n",
    "- Utworzyć listę 10 liczb z zakresu <0, 100> - to robimy\n",
    "- Znaleźć na liście **najmniejszą** liczbę (pętlą for)"
   ]
  },
  {
   "cell_type": "code",
   "execution_count": 49,
   "metadata": {},
   "outputs": [
    {
     "name": "stdout",
     "output_type": "stream",
     "text": [
      "[68, 79, 56, 59, 79, 75, 55, 39, 13, 17]\n",
      "68 najmniejsza dotychczas:  68\n",
      "79 najmniejsza dotychczas:  68\n",
      "56 najmniejsza dotychczas:  56\n",
      "59 najmniejsza dotychczas:  56\n",
      "79 najmniejsza dotychczas:  56\n",
      "75 najmniejsza dotychczas:  56\n",
      "55 najmniejsza dotychczas:  55\n",
      "39 najmniejsza dotychczas:  39\n",
      "13 najmniejsza dotychczas:  13\n",
      "17 najmniejsza dotychczas:  13\n",
      "13\n"
     ]
    }
   ],
   "source": [
    "dane = [random.randint(0, 100) for i in range(10)]\n",
    "print(dane)\n",
    "\n",
    "najmniejsza = 100\n",
    "for i in dane:\n",
    "    if i < najmniejsza:\n",
    "        najmniejsza = i\n",
    "    print(i, 'najmniejsza dotychczas: ', najmniejsza)\n",
    "        \n",
    "print(najmniejsza)"
   ]
  },
  {
   "cell_type": "markdown",
   "metadata": {},
   "source": [
    "### Zadanie 5\n",
    "Znaleźć na liście największą liczbę podzielną przez 3"
   ]
  },
  {
   "cell_type": "code",
   "execution_count": null,
   "metadata": {},
   "outputs": [],
   "source": []
  },
  {
   "cell_type": "markdown",
   "metadata": {},
   "source": [
    "## Pętle zagnieżdżone"
   ]
  },
  {
   "cell_type": "code",
   "execution_count": 50,
   "metadata": {},
   "outputs": [
    {
     "name": "stdout",
     "output_type": "stream",
     "text": [
      "i =  0 , j =  0\n",
      "i =  0 , j =  1\n",
      "i =  0 , j =  2\n",
      "i =  1 , j =  0\n",
      "i =  1 , j =  1\n",
      "i =  1 , j =  2\n"
     ]
    }
   ],
   "source": [
    "for i in range(2):\n",
    "    for j in range(3):\n",
    "        print(\"i = \", i,\", j = \", j)"
   ]
  },
  {
   "cell_type": "markdown",
   "metadata": {},
   "source": [
    "### Zadanie 6\n",
    "Wydrukować prostokąt ze znaków '*' o wymiarze 4 x 5 (zagnieżdżoną pętlą for)"
   ]
  },
  {
   "cell_type": "code",
   "execution_count": null,
   "metadata": {},
   "outputs": [],
   "source": [
    "# wskazówka: wydruk bez przechodzenia do nowej linii\n",
    "for i in range(15):\n",
    "    print('?', end='')\n",
    "print()\n",
    "for i in range(15):\n",
    "    print('?', end='')"
   ]
  },
  {
   "cell_type": "code",
   "execution_count": null,
   "metadata": {},
   "outputs": [],
   "source": [
    "*****\n",
    "*****\n",
    "*****\n",
    "*****"
   ]
  },
  {
   "cell_type": "markdown",
   "metadata": {},
   "source": [
    "## Listy list"
   ]
  },
  {
   "cell_type": "code",
   "execution_count": null,
   "metadata": {},
   "outputs": [],
   "source": [
    "# TODO *zdefiniować listę list * wydrukować każdą listę * wydrukować każdy element na każdej liście"
   ]
  },
  {
   "cell_type": "code",
   "execution_count": null,
   "metadata": {},
   "outputs": [],
   "source": []
  },
  {
   "cell_type": "markdown",
   "metadata": {},
   "source": [
    "### Zadanie 7\n",
    "Dana jest **lista list**. Znaleźć i wydrukować największą liczbę na każdej liście."
   ]
  },
  {
   "cell_type": "code",
   "execution_count": null,
   "metadata": {},
   "outputs": [],
   "source": [
    "dane = [[random.randint(0, 100) for i in range(10)] for j in range(3)]"
   ]
  },
  {
   "cell_type": "code",
   "execution_count": null,
   "metadata": {},
   "outputs": [],
   "source": [
    "dane"
   ]
  },
  {
   "cell_type": "code",
   "execution_count": null,
   "metadata": {},
   "outputs": [],
   "source": []
  }
 ],
 "metadata": {
  "kernelspec": {
   "display_name": "Python 3",
   "language": "python",
   "name": "python3"
  },
  "language_info": {
   "codemirror_mode": {
    "name": "ipython",
    "version": 3
   },
   "file_extension": ".py",
   "mimetype": "text/x-python",
   "name": "python",
   "nbconvert_exporter": "python",
   "pygments_lexer": "ipython3",
   "version": "3.8.10"
  }
 },
 "nbformat": 4,
 "nbformat_minor": 2
}
