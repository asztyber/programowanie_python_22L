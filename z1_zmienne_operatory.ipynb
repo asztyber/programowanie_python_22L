{
 "cells": [
  {
   "cell_type": "markdown",
   "metadata": {
    "id": "QxkRXsbfDFIt"
   },
   "source": [
    "# Zmienne\n",
    "\n",
    "\n",
    "- Zmienna - **nazwane** miejsce w pamięci, pozwala na zapisywanie i odczytywanie danych\n",
    "- Nazwy zmiennych mogą zawierać litery, cyfry i \\_, muszą zaczynać się literą lub \\_\n",
    "- Python rozróżnia wielkość liter\n"
   ]
  },
  {
   "cell_type": "code",
   "execution_count": null,
   "metadata": {
    "id": "Ct5OhMt1DFJB"
   },
   "outputs": [],
   "source": [
    "# TODO: zadeklarować kilka zmiennych: int, float, str, bool, pokazać NameError"
   ]
  },
  {
   "cell_type": "code",
   "execution_count": null,
   "metadata": {
    "colab": {
     "base_uri": "https://localhost:8080/"
    },
    "id": "NArR6GTYDifW",
    "outputId": "6c0680fa-7696-42d3-c2b9-bddd2feecd3b"
   },
   "outputs": [],
   "source": [
    "a = 3\n",
    "print(a)"
   ]
  },
  {
   "cell_type": "code",
   "execution_count": null,
   "metadata": {
    "colab": {
     "base_uri": "https://localhost:8080/"
    },
    "id": "n0qYDkAGDq14",
    "outputId": "2e403dec-1c21-4325-e411-df1d86348f64"
   },
   "outputs": [],
   "source": [
    "b = 3.4\n",
    "print(b)"
   ]
  },
  {
   "cell_type": "code",
   "execution_count": null,
   "metadata": {
    "colab": {
     "base_uri": "https://localhost:8080/"
    },
    "id": "8V7C1RlGDuqq",
    "outputId": "a0b86207-4170-46c6-f3d4-8bf05628802a"
   },
   "outputs": [],
   "source": [
    "napis = \"aaa\"\n",
    "print(napis)"
   ]
  },
  {
   "cell_type": "code",
   "execution_count": null,
   "metadata": {
    "colab": {
     "base_uri": "https://localhost:8080/",
     "height": 36
    },
    "id": "c-3o6F6MD4EI",
    "outputId": "0f86cf6c-1716-4858-e09c-d44c3080635f"
   },
   "outputs": [],
   "source": [
    "napis"
   ]
  },
  {
   "cell_type": "code",
   "execution_count": null,
   "metadata": {
    "colab": {
     "base_uri": "https://localhost:8080/",
     "height": 172
    },
    "id": "Ju24WTdSECU9",
    "outputId": "3e52e15a-2788-473c-e53f-919db2de3026"
   },
   "outputs": [],
   "source": [
    "A"
   ]
  },
  {
   "cell_type": "markdown",
   "metadata": {
    "id": "AUruf1huDFJE"
   },
   "source": [
    "### Print\n",
    "funkcja print() drukuje"
   ]
  },
  {
   "cell_type": "code",
   "execution_count": null,
   "metadata": {
    "id": "VshSlVBQDFJH"
   },
   "outputs": [],
   "source": [
    "# TODO: wydruk, pokazać różnicę, notebook i nie"
   ]
  },
  {
   "cell_type": "code",
   "execution_count": null,
   "metadata": {
    "colab": {
     "base_uri": "https://localhost:8080/"
    },
    "id": "drm9cKk3EP1H",
    "outputId": "36db9dd2-f027-4952-ded0-7fd1450b54ee"
   },
   "outputs": [],
   "source": [
    "print('Wartość zmiennej a: ', a)"
   ]
  },
  {
   "cell_type": "markdown",
   "metadata": {
    "id": "JEFtYhslDFJL"
   },
   "source": [
    "### Przypisanie\n",
    "znak = oznacza przypisanie, czyli podstawienie prawej strony do lewej"
   ]
  },
  {
   "cell_type": "code",
   "execution_count": null,
   "metadata": {
    "id": "1Vy71IDbDFJN"
   },
   "outputs": [],
   "source": [
    "# TODO: przypisanie, inkrementacja"
   ]
  },
  {
   "cell_type": "code",
   "execution_count": null,
   "metadata": {
    "colab": {
     "base_uri": "https://localhost:8080/"
    },
    "id": "mnoidf1REcty",
    "outputId": "056de4fb-4566-4b6b-939f-fddf27a8c94c"
   },
   "outputs": [],
   "source": [
    "c = a + b\n",
    "print(c)"
   ]
  },
  {
   "cell_type": "code",
   "execution_count": null,
   "metadata": {
    "colab": {
     "base_uri": "https://localhost:8080/"
    },
    "id": "WzmR5zHAEp8s",
    "outputId": "c4862577-3c1a-440e-e885-d85e4ca82577"
   },
   "outputs": [],
   "source": [
    "x = 1\n",
    "print(x)"
   ]
  },
  {
   "cell_type": "code",
   "execution_count": null,
   "metadata": {
    "colab": {
     "base_uri": "https://localhost:8080/"
    },
    "id": "gaVc7IAREtEE",
    "outputId": "50da9f8a-bf6c-458c-be1e-43b82971d706"
   },
   "outputs": [],
   "source": [
    "x = x + 1\n",
    "print(x)"
   ]
  },
  {
   "cell_type": "markdown",
   "metadata": {
    "id": "I1BZUhg8DFJP"
   },
   "source": [
    "### Typy\n",
    "\n",
    "- int (integer) liczby całkowite\n",
    "- float liczby zmiennoprzecinkowe\n",
    "- str (string) napisy\n",
    "- bool logiczny (0 lub 1, prawda lub fałsz)"
   ]
  },
  {
   "cell_type": "code",
   "execution_count": null,
   "metadata": {
    "id": "rz5bo19HDFJR"
   },
   "outputs": [],
   "source": [
    "# TODO: type"
   ]
  },
  {
   "cell_type": "code",
   "execution_count": null,
   "metadata": {
    "colab": {
     "base_uri": "https://localhost:8080/"
    },
    "id": "NSkgH7v7E5dq",
    "outputId": "6398af2e-b12e-4435-e6bd-ab440242e285"
   },
   "outputs": [],
   "source": [
    "type(x)"
   ]
  },
  {
   "cell_type": "code",
   "execution_count": null,
   "metadata": {
    "colab": {
     "base_uri": "https://localhost:8080/"
    },
    "id": "BwgR3n0FE8yR",
    "outputId": "e01b2509-c1f3-473c-a08f-61d87a4d7b29"
   },
   "outputs": [],
   "source": [
    "type(b)"
   ]
  },
  {
   "cell_type": "code",
   "execution_count": null,
   "metadata": {
    "colab": {
     "base_uri": "https://localhost:8080/"
    },
    "id": "7oNst4K3E_0y",
    "outputId": "7d005209-1430-4492-f51c-b01b09d43893"
   },
   "outputs": [],
   "source": [
    "type(napis)"
   ]
  },
  {
   "cell_type": "code",
   "execution_count": null,
   "metadata": {
    "colab": {
     "base_uri": "https://localhost:8080/"
    },
    "id": "mbl4Gxc1FDw0",
    "outputId": "1293a69d-b2a2-4818-d588-326bd0bf54b2"
   },
   "outputs": [],
   "source": [
    "# True, False z dużej\n",
    "logiczna = False\n",
    "print(logiczna)"
   ]
  },
  {
   "cell_type": "markdown",
   "metadata": {
    "id": "njliWPNGDFJS"
   },
   "source": [
    "Działanie operatora/funkcji może zależeć od typu zmiennych wejściowych"
   ]
  },
  {
   "cell_type": "code",
   "execution_count": null,
   "metadata": {
    "colab": {
     "base_uri": "https://localhost:8080/"
    },
    "id": "TkFi4vniFmF3",
    "outputId": "d281728f-d61e-49a3-9f3c-bbb3bdf31058"
   },
   "outputs": [],
   "source": [
    "a + b"
   ]
  },
  {
   "cell_type": "code",
   "execution_count": null,
   "metadata": {
    "colab": {
     "base_uri": "https://localhost:8080/",
     "height": 172
    },
    "id": "6WOMpRDyGKJX",
    "outputId": "af29f42c-5763-475b-9ead-ff9ff4449374"
   },
   "outputs": [],
   "source": [
    "napis + a"
   ]
  },
  {
   "cell_type": "markdown",
   "metadata": {
    "id": "bDDbivyyDFJT"
   },
   "source": [
    "### Konwersje typów"
   ]
  },
  {
   "cell_type": "code",
   "execution_count": null,
   "metadata": {
    "id": "VatRheJoDFJT"
   },
   "outputs": [],
   "source": [
    "# TODO: int/str, ValueError"
   ]
  },
  {
   "cell_type": "code",
   "execution_count": null,
   "metadata": {
    "colab": {
     "base_uri": "https://localhost:8080/",
     "height": 36
    },
    "id": "4AF7EBfQGbUU",
    "outputId": "f04cff4a-679f-4d21-dfaa-e646b833ea06"
   },
   "outputs": [],
   "source": [
    "napis + ' ' + str(a)"
   ]
  },
  {
   "cell_type": "code",
   "execution_count": null,
   "metadata": {
    "id": "cTTmi2SuGqfF"
   },
   "outputs": [],
   "source": [
    "a='bbb'"
   ]
  },
  {
   "cell_type": "code",
   "execution_count": null,
   "metadata": {
    "colab": {
     "base_uri": "https://localhost:8080/",
     "height": 36
    },
    "id": "8b-Dl-CxHA0e",
    "outputId": "693ceab3-346c-42b5-9d09-d82f36fe4c2b"
   },
   "outputs": [],
   "source": [
    "a"
   ]
  },
  {
   "cell_type": "code",
   "execution_count": null,
   "metadata": {
    "colab": {
     "base_uri": "https://localhost:8080/"
    },
    "id": "aLiW_NVpHOJY",
    "outputId": "542dd937-288f-4745-e351-a88823f50c53"
   },
   "outputs": [],
   "source": [
    "type(a)"
   ]
  },
  {
   "cell_type": "code",
   "execution_count": null,
   "metadata": {
    "colab": {
     "base_uri": "https://localhost:8080/"
    },
    "id": "d6mLDJkXHwJY",
    "outputId": "9a963700-acb6-42d3-e379-aace81e29298"
   },
   "outputs": [],
   "source": [
    "a = 5\n",
    "type(a)"
   ]
  },
  {
   "cell_type": "markdown",
   "metadata": {
    "id": "4owhUtJqDFJW"
   },
   "source": [
    "### Operatory\n",
    "- dodawanie +\n",
    "- odejmowanie -\n",
    "- mnożenie \\*\n",
    "- dzielenie /\n",
    "- dzielenie // bez reszty\n",
    "- modulo (reszta z dzielnia) %\n",
    "- potęgowanie \\**"
   ]
  },
  {
   "cell_type": "code",
   "execution_count": null,
   "metadata": {
    "colab": {
     "base_uri": "https://localhost:8080/"
    },
    "id": "UgCA7wxtDFJX",
    "outputId": "7dcf1292-d4d4-467c-9ead-ab360f1fa0c0"
   },
   "outputs": [],
   "source": [
    "2/3"
   ]
  },
  {
   "cell_type": "code",
   "execution_count": null,
   "metadata": {
    "colab": {
     "base_uri": "https://localhost:8080/"
    },
    "id": "EqZKmEEYIBkD",
    "outputId": "e9a05ebe-dc2b-4bb9-c3f3-f28162ec49f6"
   },
   "outputs": [],
   "source": [
    "2//3"
   ]
  },
  {
   "cell_type": "code",
   "execution_count": null,
   "metadata": {
    "colab": {
     "base_uri": "https://localhost:8080/"
    },
    "id": "wqbi8GYSIKMM",
    "outputId": "a22ec5c1-1934-4985-c72e-4a140dafa5c1"
   },
   "outputs": [],
   "source": [
    "8 % 5"
   ]
  },
  {
   "cell_type": "code",
   "execution_count": null,
   "metadata": {
    "colab": {
     "base_uri": "https://localhost:8080/"
    },
    "id": "BUq6LXbfINrl",
    "outputId": "429c1ad6-dc51-4be3-d1af-31492f606b73"
   },
   "outputs": [],
   "source": [
    "2 ** 4"
   ]
  },
  {
   "cell_type": "markdown",
   "metadata": {
    "id": "CcMENfS0DFJZ"
   },
   "source": [
    "### Kolejność działań\n",
    "- nawiasy ()\n",
    "- potęgowanie\n",
    "- mnożenie i dzielenie\n",
    "- dodawanie i odejmowanie\n",
    "- od lewej do prawej"
   ]
  },
  {
   "cell_type": "markdown",
   "metadata": {
    "id": "i6KLblxDDFJc"
   },
   "source": [
    "### Zadanie 1\n",
    "- Przypisać wartości 2 i 3 do zmiennych a i b\n",
    "- podstawić do zmiennej c wynik $\\frac{b}{2a} + \\frac{5}{a + b}(4a - b)^3$\n",
    "- wydrukować c"
   ]
  },
  {
   "cell_type": "code",
   "execution_count": null,
   "metadata": {
    "id": "VSNi19JUDFJf"
   },
   "outputs": [],
   "source": [
    "# TODO: szkielet zadania + wzór do wypełnienia"
   ]
  },
  {
   "cell_type": "code",
   "execution_count": null,
   "metadata": {
    "colab": {
     "base_uri": "https://localhost:8080/"
    },
    "id": "NmynBJOyIWqt",
    "outputId": "1243e132-a1b0-4fd0-f535-f7197dbaa16c"
   },
   "outputs": [],
   "source": [
    "a = 2\n",
    "b = 3\n",
    "c = \n",
    "print(c) "
   ]
  },
  {
   "cell_type": "markdown",
   "metadata": {
    "id": "IypHp5I7DFJg"
   },
   "source": [
    "### Biblioteki"
   ]
  },
  {
   "cell_type": "code",
   "execution_count": null,
   "metadata": {
    "colab": {
     "base_uri": "https://localhost:8080/"
    },
    "id": "KXKGlYBQDFJg",
    "outputId": "881f8887-835f-4280-e70a-11c6d9d468fe"
   },
   "outputs": [],
   "source": [
    "import math\n",
    "math.sqrt(4)\n",
    "# instalacja dodatkowych pip install biblioteka"
   ]
  },
  {
   "cell_type": "code",
   "execution_count": null,
   "metadata": {
    "colab": {
     "base_uri": "https://localhost:8080/"
    },
    "id": "_2WtWAMUDFJk",
    "outputId": "4468adc2-debc-4f0d-f441-2dcbd9a2d4b7"
   },
   "outputs": [],
   "source": [
    "math.pi "
   ]
  },
  {
   "cell_type": "markdown",
   "metadata": {
    "id": "Hlq0_L_bDFJl"
   },
   "source": [
    "### Zadanie 2\n",
    "Policzyć i wydrukować objętość i pole powierzchni stożka ściętego - na podstawie przypisanyhc wartości R, r i h.\n",
    "$$V=\\frac{1}{3} πh(R^2+Rr+r^2)$$\n",
    "$$l=\\sqrt{h^2 + (R-r)^2}$$\n",
    "$$P_b=πl(R+r)$$\n"
   ]
  },
  {
   "cell_type": "code",
   "execution_count": null,
   "metadata": {
    "colab": {
     "base_uri": "https://localhost:8080/"
    },
    "id": "tdkhoQhoDFJm",
    "outputId": "f7400845-1aed-41a5-d9e9-96ef3773d99b"
   },
   "outputs": [],
   "source": [
    "import math\n",
    "\n",
    "r = 3\n",
    "R = 4.5\n",
    "h = 5\n",
    "V = \n",
    "l = \n",
    "Pb = \n",
    "print('objetość: ', V)\n",
    "print('Pole powierzchni bocznej: ', Pb)"
   ]
  },
  {
   "cell_type": "code",
   "execution_count": null,
   "metadata": {
    "id": "iic8sNGuOT5B"
   },
   "outputs": [],
   "source": []
  }
 ],
 "metadata": {
  "anaconda-cloud": {},
  "colab": {
   "name": "z1_zmienne_operatory.ipynb",
   "provenance": []
  },
  "kernelspec": {
   "display_name": "Python 3 (ipykernel)",
   "language": "python",
   "name": "python3"
  },
  "language_info": {
   "codemirror_mode": {
    "name": "ipython",
    "version": 3
   },
   "file_extension": ".py",
   "mimetype": "text/x-python",
   "name": "python",
   "nbconvert_exporter": "python",
   "pygments_lexer": "ipython3",
   "version": "3.8.5"
  }
 },
 "nbformat": 4,
 "nbformat_minor": 1
}
