{
 "cells": [
  {
   "cell_type": "markdown",
   "metadata": {
    "id": "QxkRXsbfDFIt"
   },
   "source": [
    "# Zmienne\n",
    "\n",
    "\n",
    "- Zmienna - **nazwane** miejsce w pamięci, pozwala na zapisywanie i odczytywanie danych\n",
    "- Nazwy zmiennych mogą zawierać litery, cyfry i \\_, muszą zaczynać się literą lub \\_\n",
    "- Python rozróżnia wielkość liter\n"
   ]
  },
  {
   "cell_type": "code",
   "execution_count": null,
   "metadata": {
    "id": "Ct5OhMt1DFJB"
   },
   "outputs": [],
   "source": [
    "# TODO: zadeklarować kilka zmiennych: int, float, str, bool, pokazać NameError"
   ]
  },
  {
   "cell_type": "code",
   "execution_count": 6,
   "metadata": {
    "colab": {
     "base_uri": "https://localhost:8080/"
    },
    "id": "NArR6GTYDifW",
    "outputId": "6c0680fa-7696-42d3-c2b9-bddd2feecd3b"
   },
   "outputs": [
    {
     "name": "stdout",
     "output_type": "stream",
     "text": [
      "3\n"
     ]
    }
   ],
   "source": [
    "a = 3\n",
    "print(a)"
   ]
  },
  {
   "cell_type": "code",
   "execution_count": 2,
   "metadata": {
    "colab": {
     "base_uri": "https://localhost:8080/"
    },
    "id": "n0qYDkAGDq14",
    "outputId": "2e403dec-1c21-4325-e411-df1d86348f64"
   },
   "outputs": [
    {
     "name": "stdout",
     "output_type": "stream",
     "text": [
      "3.4\n"
     ]
    }
   ],
   "source": [
    "b = 3.4\n",
    "print(b)"
   ]
  },
  {
   "cell_type": "code",
   "execution_count": 4,
   "metadata": {
    "colab": {
     "base_uri": "https://localhost:8080/"
    },
    "id": "8V7C1RlGDuqq",
    "outputId": "a0b86207-4170-46c6-f3d4-8bf05628802a"
   },
   "outputs": [
    {
     "name": "stdout",
     "output_type": "stream",
     "text": [
      "aaa\n"
     ]
    }
   ],
   "source": [
    "napis = 'aaa'\n",
    "print(napis)"
   ]
  },
  {
   "cell_type": "code",
   "execution_count": 5,
   "metadata": {
    "colab": {
     "base_uri": "https://localhost:8080/",
     "height": 36
    },
    "id": "c-3o6F6MD4EI",
    "outputId": "0f86cf6c-1716-4858-e09c-d44c3080635f"
   },
   "outputs": [
    {
     "data": {
      "text/plain": [
       "'aaa'"
      ]
     },
     "execution_count": 5,
     "metadata": {},
     "output_type": "execute_result"
    }
   ],
   "source": [
    "napis"
   ]
  },
  {
   "cell_type": "code",
   "execution_count": 7,
   "metadata": {
    "colab": {
     "base_uri": "https://localhost:8080/",
     "height": 172
    },
    "id": "Ju24WTdSECU9",
    "outputId": "3e52e15a-2788-473c-e53f-919db2de3026"
   },
   "outputs": [
    {
     "ename": "NameError",
     "evalue": "name 'A' is not defined",
     "output_type": "error",
     "traceback": [
      "\u001b[1;31m---------------------------------------------------------------------------\u001b[0m",
      "\u001b[1;31mNameError\u001b[0m                                 Traceback (most recent call last)",
      "\u001b[1;32m~\\AppData\\Local\\Temp/ipykernel_8652/378453753.py\u001b[0m in \u001b[0;36m<module>\u001b[1;34m\u001b[0m\n\u001b[1;32m----> 1\u001b[1;33m \u001b[0mA\u001b[0m\u001b[1;33m\u001b[0m\u001b[1;33m\u001b[0m\u001b[0m\n\u001b[0m",
      "\u001b[1;31mNameError\u001b[0m: name 'A' is not defined"
     ]
    }
   ],
   "source": [
    "A"
   ]
  },
  {
   "cell_type": "markdown",
   "metadata": {
    "id": "AUruf1huDFJE"
   },
   "source": [
    "### Print\n",
    "funkcja print() drukuje"
   ]
  },
  {
   "cell_type": "code",
   "execution_count": null,
   "metadata": {
    "id": "VshSlVBQDFJH"
   },
   "outputs": [],
   "source": [
    "# TODO: wydruk, pokazać różnicę, notebook i nie"
   ]
  },
  {
   "cell_type": "code",
   "execution_count": 8,
   "metadata": {
    "colab": {
     "base_uri": "https://localhost:8080/"
    },
    "id": "drm9cKk3EP1H",
    "outputId": "36db9dd2-f027-4952-ded0-7fd1450b54ee"
   },
   "outputs": [
    {
     "name": "stdout",
     "output_type": "stream",
     "text": [
      "Wartość zmiennej a:  3\n"
     ]
    }
   ],
   "source": [
    "print('Wartość zmiennej a: ', a)"
   ]
  },
  {
   "cell_type": "markdown",
   "metadata": {
    "id": "JEFtYhslDFJL"
   },
   "source": [
    "### Przypisanie\n",
    "znak = oznacza przypisanie, czyli podstawienie prawej strony do lewej"
   ]
  },
  {
   "cell_type": "code",
   "execution_count": null,
   "metadata": {
    "id": "1Vy71IDbDFJN"
   },
   "outputs": [],
   "source": [
    "# TODO: przypisanie, inkrementacja"
   ]
  },
  {
   "cell_type": "code",
   "execution_count": 10,
   "metadata": {},
   "outputs": [
    {
     "data": {
      "text/plain": [
       "3"
      ]
     },
     "execution_count": 10,
     "metadata": {},
     "output_type": "execute_result"
    }
   ],
   "source": [
    "a"
   ]
  },
  {
   "cell_type": "code",
   "execution_count": 11,
   "metadata": {},
   "outputs": [
    {
     "data": {
      "text/plain": [
       "3.4"
      ]
     },
     "execution_count": 11,
     "metadata": {},
     "output_type": "execute_result"
    }
   ],
   "source": [
    "b"
   ]
  },
  {
   "cell_type": "code",
   "execution_count": 9,
   "metadata": {
    "colab": {
     "base_uri": "https://localhost:8080/"
    },
    "id": "mnoidf1REcty",
    "outputId": "056de4fb-4566-4b6b-939f-fddf27a8c94c"
   },
   "outputs": [
    {
     "name": "stdout",
     "output_type": "stream",
     "text": [
      "6.4\n"
     ]
    }
   ],
   "source": [
    "c = a + b\n",
    "print(c)"
   ]
  },
  {
   "cell_type": "code",
   "execution_count": 12,
   "metadata": {
    "colab": {
     "base_uri": "https://localhost:8080/"
    },
    "id": "WzmR5zHAEp8s",
    "outputId": "c4862577-3c1a-440e-e885-d85e4ca82577"
   },
   "outputs": [
    {
     "name": "stdout",
     "output_type": "stream",
     "text": [
      "1\n"
     ]
    }
   ],
   "source": [
    "x = 1\n",
    "print(x)"
   ]
  },
  {
   "cell_type": "code",
   "execution_count": 13,
   "metadata": {
    "colab": {
     "base_uri": "https://localhost:8080/"
    },
    "id": "gaVc7IAREtEE",
    "outputId": "50da9f8a-bf6c-458c-be1e-43b82971d706"
   },
   "outputs": [
    {
     "name": "stdout",
     "output_type": "stream",
     "text": [
      "2\n"
     ]
    }
   ],
   "source": [
    "x = x + 1\n",
    "print(x)"
   ]
  },
  {
   "cell_type": "markdown",
   "metadata": {
    "id": "I1BZUhg8DFJP"
   },
   "source": [
    "### Typy\n",
    "\n",
    "- int (integer) liczby całkowite\n",
    "- float liczby zmiennoprzecinkowe\n",
    "- str (string) napisy\n",
    "- bool logiczny (0 lub 1, prawda lub fałsz)"
   ]
  },
  {
   "cell_type": "code",
   "execution_count": null,
   "metadata": {
    "id": "rz5bo19HDFJR"
   },
   "outputs": [],
   "source": [
    "# TODO: type"
   ]
  },
  {
   "cell_type": "code",
   "execution_count": 16,
   "metadata": {},
   "outputs": [
    {
     "data": {
      "text/plain": [
       "3.4"
      ]
     },
     "execution_count": 16,
     "metadata": {},
     "output_type": "execute_result"
    }
   ],
   "source": [
    "b"
   ]
  },
  {
   "cell_type": "code",
   "execution_count": 15,
   "metadata": {
    "colab": {
     "base_uri": "https://localhost:8080/"
    },
    "id": "NSkgH7v7E5dq",
    "outputId": "6398af2e-b12e-4435-e6bd-ab440242e285"
   },
   "outputs": [
    {
     "data": {
      "text/plain": [
       "int"
      ]
     },
     "execution_count": 15,
     "metadata": {},
     "output_type": "execute_result"
    }
   ],
   "source": [
    "type(x)"
   ]
  },
  {
   "cell_type": "code",
   "execution_count": 17,
   "metadata": {
    "colab": {
     "base_uri": "https://localhost:8080/"
    },
    "id": "BwgR3n0FE8yR",
    "outputId": "e01b2509-c1f3-473c-a08f-61d87a4d7b29"
   },
   "outputs": [
    {
     "data": {
      "text/plain": [
       "float"
      ]
     },
     "execution_count": 17,
     "metadata": {},
     "output_type": "execute_result"
    }
   ],
   "source": [
    "type(b)"
   ]
  },
  {
   "cell_type": "code",
   "execution_count": 18,
   "metadata": {
    "colab": {
     "base_uri": "https://localhost:8080/"
    },
    "id": "7oNst4K3E_0y",
    "outputId": "7d005209-1430-4492-f51c-b01b09d43893"
   },
   "outputs": [
    {
     "data": {
      "text/plain": [
       "str"
      ]
     },
     "execution_count": 18,
     "metadata": {},
     "output_type": "execute_result"
    }
   ],
   "source": [
    "type(napis)"
   ]
  },
  {
   "cell_type": "code",
   "execution_count": 20,
   "metadata": {
    "colab": {
     "base_uri": "https://localhost:8080/"
    },
    "id": "mbl4Gxc1FDw0",
    "outputId": "1293a69d-b2a2-4818-d588-326bd0bf54b2"
   },
   "outputs": [
    {
     "name": "stdout",
     "output_type": "stream",
     "text": [
      "True\n"
     ]
    }
   ],
   "source": [
    "# True, False z dużej\n",
    "logiczna = True\n",
    "print(logiczna)"
   ]
  },
  {
   "cell_type": "markdown",
   "metadata": {
    "id": "njliWPNGDFJS"
   },
   "source": [
    "Działanie operatora/funkcji może zależeć od typu zmiennych wejściowych"
   ]
  },
  {
   "cell_type": "code",
   "execution_count": 21,
   "metadata": {
    "colab": {
     "base_uri": "https://localhost:8080/"
    },
    "id": "TkFi4vniFmF3",
    "outputId": "d281728f-d61e-49a3-9f3c-bbb3bdf31058"
   },
   "outputs": [
    {
     "data": {
      "text/plain": [
       "6.4"
      ]
     },
     "execution_count": 21,
     "metadata": {},
     "output_type": "execute_result"
    }
   ],
   "source": [
    "a + b"
   ]
  },
  {
   "cell_type": "code",
   "execution_count": 22,
   "metadata": {
    "colab": {
     "base_uri": "https://localhost:8080/",
     "height": 172
    },
    "id": "6WOMpRDyGKJX",
    "outputId": "af29f42c-5763-475b-9ead-ff9ff4449374"
   },
   "outputs": [
    {
     "ename": "TypeError",
     "evalue": "can only concatenate str (not \"int\") to str",
     "output_type": "error",
     "traceback": [
      "\u001b[1;31m---------------------------------------------------------------------------\u001b[0m",
      "\u001b[1;31mTypeError\u001b[0m                                 Traceback (most recent call last)",
      "\u001b[1;32m~\\AppData\\Local\\Temp/ipykernel_8652/2944851045.py\u001b[0m in \u001b[0;36m<module>\u001b[1;34m\u001b[0m\n\u001b[1;32m----> 1\u001b[1;33m \u001b[0mnapis\u001b[0m \u001b[1;33m+\u001b[0m \u001b[0ma\u001b[0m\u001b[1;33m\u001b[0m\u001b[1;33m\u001b[0m\u001b[0m\n\u001b[0m",
      "\u001b[1;31mTypeError\u001b[0m: can only concatenate str (not \"int\") to str"
     ]
    }
   ],
   "source": [
    "napis + a"
   ]
  },
  {
   "cell_type": "markdown",
   "metadata": {
    "id": "bDDbivyyDFJT"
   },
   "source": [
    "### Konwersje typów"
   ]
  },
  {
   "cell_type": "code",
   "execution_count": null,
   "metadata": {
    "id": "VatRheJoDFJT"
   },
   "outputs": [],
   "source": [
    "# TODO: int/str, ValueError"
   ]
  },
  {
   "cell_type": "code",
   "execution_count": 26,
   "metadata": {},
   "outputs": [
    {
     "data": {
      "text/plain": [
       "3"
      ]
     },
     "execution_count": 26,
     "metadata": {},
     "output_type": "execute_result"
    }
   ],
   "source": [
    "a"
   ]
  },
  {
   "cell_type": "code",
   "execution_count": 25,
   "metadata": {
    "colab": {
     "base_uri": "https://localhost:8080/",
     "height": 36
    },
    "id": "4AF7EBfQGbUU",
    "outputId": "f04cff4a-679f-4d21-dfaa-e646b833ea06"
   },
   "outputs": [
    {
     "data": {
      "text/plain": [
       "'aaa 3'"
      ]
     },
     "execution_count": 25,
     "metadata": {},
     "output_type": "execute_result"
    }
   ],
   "source": [
    "napis + ' ' + str(a)"
   ]
  },
  {
   "cell_type": "code",
   "execution_count": 29,
   "metadata": {
    "id": "cTTmi2SuGqfF"
   },
   "outputs": [],
   "source": [
    "a='bbb'"
   ]
  },
  {
   "cell_type": "code",
   "execution_count": 30,
   "metadata": {
    "colab": {
     "base_uri": "https://localhost:8080/",
     "height": 36
    },
    "id": "8b-Dl-CxHA0e",
    "outputId": "693ceab3-346c-42b5-9d09-d82f36fe4c2b"
   },
   "outputs": [
    {
     "data": {
      "text/plain": [
       "'bbb'"
      ]
     },
     "execution_count": 30,
     "metadata": {},
     "output_type": "execute_result"
    }
   ],
   "source": [
    "a"
   ]
  },
  {
   "cell_type": "code",
   "execution_count": 31,
   "metadata": {
    "colab": {
     "base_uri": "https://localhost:8080/"
    },
    "id": "aLiW_NVpHOJY",
    "outputId": "542dd937-288f-4745-e351-a88823f50c53"
   },
   "outputs": [
    {
     "data": {
      "text/plain": [
       "str"
      ]
     },
     "execution_count": 31,
     "metadata": {},
     "output_type": "execute_result"
    }
   ],
   "source": [
    "type(a)"
   ]
  },
  {
   "cell_type": "code",
   "execution_count": 32,
   "metadata": {
    "colab": {
     "base_uri": "https://localhost:8080/"
    },
    "id": "d6mLDJkXHwJY",
    "outputId": "9a963700-acb6-42d3-e379-aace81e29298"
   },
   "outputs": [
    {
     "data": {
      "text/plain": [
       "int"
      ]
     },
     "execution_count": 32,
     "metadata": {},
     "output_type": "execute_result"
    }
   ],
   "source": [
    "a = 5\n",
    "type(a)"
   ]
  },
  {
   "cell_type": "markdown",
   "metadata": {
    "id": "4owhUtJqDFJW"
   },
   "source": [
    "### Operatory\n",
    "- dodawanie +\n",
    "- odejmowanie -\n",
    "- mnożenie \\*\n",
    "- dzielenie /\n",
    "- dzielenie // bez reszty\n",
    "- modulo (reszta z dzielnia) %\n",
    "- potęgowanie \\**"
   ]
  },
  {
   "cell_type": "code",
   "execution_count": 33,
   "metadata": {
    "colab": {
     "base_uri": "https://localhost:8080/"
    },
    "id": "UgCA7wxtDFJX",
    "outputId": "7dcf1292-d4d4-467c-9ead-ab360f1fa0c0"
   },
   "outputs": [
    {
     "data": {
      "text/plain": [
       "0.6666666666666666"
      ]
     },
     "execution_count": 33,
     "metadata": {},
     "output_type": "execute_result"
    }
   ],
   "source": [
    "2/3"
   ]
  },
  {
   "cell_type": "code",
   "execution_count": 34,
   "metadata": {
    "colab": {
     "base_uri": "https://localhost:8080/"
    },
    "id": "EqZKmEEYIBkD",
    "outputId": "e9a05ebe-dc2b-4bb9-c3f3-f28162ec49f6"
   },
   "outputs": [
    {
     "data": {
      "text/plain": [
       "0"
      ]
     },
     "execution_count": 34,
     "metadata": {},
     "output_type": "execute_result"
    }
   ],
   "source": [
    "2//3"
   ]
  },
  {
   "cell_type": "code",
   "execution_count": 35,
   "metadata": {
    "colab": {
     "base_uri": "https://localhost:8080/"
    },
    "id": "wqbi8GYSIKMM",
    "outputId": "a22ec5c1-1934-4985-c72e-4a140dafa5c1"
   },
   "outputs": [
    {
     "data": {
      "text/plain": [
       "3"
      ]
     },
     "execution_count": 35,
     "metadata": {},
     "output_type": "execute_result"
    }
   ],
   "source": [
    "8 % 5"
   ]
  },
  {
   "cell_type": "code",
   "execution_count": 36,
   "metadata": {
    "colab": {
     "base_uri": "https://localhost:8080/"
    },
    "id": "BUq6LXbfINrl",
    "outputId": "429c1ad6-dc51-4be3-d1af-31492f606b73"
   },
   "outputs": [
    {
     "data": {
      "text/plain": [
       "16"
      ]
     },
     "execution_count": 36,
     "metadata": {},
     "output_type": "execute_result"
    }
   ],
   "source": [
    "2 ** 4"
   ]
  },
  {
   "cell_type": "markdown",
   "metadata": {
    "id": "CcMENfS0DFJZ"
   },
   "source": [
    "### Kolejność działań\n",
    "- nawiasy ()\n",
    "- potęgowanie\n",
    "- mnożenie i dzielenie\n",
    "- dodawanie i odejmowanie\n",
    "- od lewej do prawej"
   ]
  },
  {
   "cell_type": "markdown",
   "metadata": {
    "id": "i6KLblxDDFJc"
   },
   "source": [
    "### Zadanie 1\n",
    "- Przypisać wartości 2 i 3 do zmiennych a i b\n",
    "- podstawić do zmiennej c wynik $\\frac{b}{2a} + \\frac{5}{a + b}(4a - b)^3$\n",
    "- wydrukować c"
   ]
  },
  {
   "cell_type": "code",
   "execution_count": null,
   "metadata": {
    "id": "VSNi19JUDFJf"
   },
   "outputs": [],
   "source": [
    "# TODO: szkielet zadania + wzór do wypełnienia"
   ]
  },
  {
   "cell_type": "code",
   "execution_count": 49,
   "metadata": {
    "colab": {
     "base_uri": "https://localhost:8080/"
    },
    "id": "NmynBJOyIWqt",
    "outputId": "1243e132-a1b0-4fd0-f535-f7197dbaa16c"
   },
   "outputs": [
    {
     "name": "stdout",
     "output_type": "stream",
     "text": [
      "125.75\n"
     ]
    }
   ],
   "source": [
    "a = 2\n",
    "b = 3\n",
    "c = b/(2 * a) + 5/(a + b) * (4 * a - b) ** 3\n",
    "print(c) "
   ]
  },
  {
   "cell_type": "code",
   "execution_count": 45,
   "metadata": {},
   "outputs": [
    {
     "data": {
      "text/plain": [
       "0.75"
      ]
     },
     "execution_count": 45,
     "metadata": {},
     "output_type": "execute_result"
    }
   ],
   "source": [
    "b/(2 * a)"
   ]
  },
  {
   "cell_type": "code",
   "execution_count": 46,
   "metadata": {},
   "outputs": [
    {
     "data": {
      "text/plain": [
       "1.0"
      ]
     },
     "execution_count": 46,
     "metadata": {},
     "output_type": "execute_result"
    }
   ],
   "source": [
    "5/(a + b)"
   ]
  },
  {
   "cell_type": "markdown",
   "metadata": {
    "id": "IypHp5I7DFJg"
   },
   "source": [
    "### Biblioteki"
   ]
  },
  {
   "cell_type": "code",
   "execution_count": 50,
   "metadata": {
    "colab": {
     "base_uri": "https://localhost:8080/"
    },
    "id": "KXKGlYBQDFJg",
    "outputId": "881f8887-835f-4280-e70a-11c6d9d468fe"
   },
   "outputs": [
    {
     "data": {
      "text/plain": [
       "2.0"
      ]
     },
     "execution_count": 50,
     "metadata": {},
     "output_type": "execute_result"
    }
   ],
   "source": [
    "import math\n",
    "math.sqrt(4)\n",
    "# instalacja dodatkowych pip install biblioteka"
   ]
  },
  {
   "cell_type": "code",
   "execution_count": null,
   "metadata": {},
   "outputs": [],
   "source": [
    "math."
   ]
  },
  {
   "cell_type": "code",
   "execution_count": 51,
   "metadata": {
    "colab": {
     "base_uri": "https://localhost:8080/"
    },
    "id": "_2WtWAMUDFJk",
    "outputId": "4468adc2-debc-4f0d-f441-2dcbd9a2d4b7"
   },
   "outputs": [
    {
     "data": {
      "text/plain": [
       "3.141592653589793"
      ]
     },
     "execution_count": 51,
     "metadata": {},
     "output_type": "execute_result"
    }
   ],
   "source": [
    "math.pi "
   ]
  },
  {
   "cell_type": "markdown",
   "metadata": {
    "id": "Hlq0_L_bDFJl"
   },
   "source": [
    "### Zadanie 2\n",
    "Policzyć i wydrukować objętość i pole powierzchni stożka ściętego - na podstawie przypisanyhc wartości R, r i h.\n",
    "$$V=\\frac{1}{3} πh(R^2+Rr+r^2)$$\n",
    "$$l=\\sqrt{h^2 + (R-r)^2}$$\n",
    "$$P_b=πl(R+r)$$\n"
   ]
  },
  {
   "cell_type": "code",
   "execution_count": 56,
   "metadata": {
    "colab": {
     "base_uri": "https://localhost:8080/"
    },
    "id": "tdkhoQhoDFJm",
    "outputId": "f7400845-1aed-41a5-d9e9-96ef3773d99b"
   },
   "outputs": [
    {
     "name": "stdout",
     "output_type": "stream",
     "text": [
      "l:  5.220153254455275\n",
      "objetość:  223.83847656827274\n",
      "Pole powierzchni bocznej:  122.99696336107158\n"
     ]
    }
   ],
   "source": [
    "import math\n",
    "# math.sqrt (pierwiastek), math.pi (pi)\n",
    "r = 3\n",
    "R = 4.5\n",
    "h = 5\n",
    "V = 1/3 * math.pi * h * (R ** 2 + R * r + r ** 2)\n",
    "l = math.sqrt(h ** 2 + (R - r) ** 2)\n",
    "Pb = math.pi * l * (R + r)\n",
    "print(\"l: \", l)\n",
    "print('objetość: ', V)\n",
    "print('Pole powierzchni bocznej: ', Pb)"
   ]
  },
  {
   "cell_type": "code",
   "execution_count": 53,
   "metadata": {
    "id": "iic8sNGuOT5B"
   },
   "outputs": [
    {
     "data": {
      "text/plain": [
       "3.3166247903554"
      ]
     },
     "execution_count": 53,
     "metadata": {},
     "output_type": "execute_result"
    }
   ],
   "source": [
    "math.sqrt(9 + 2)"
   ]
  },
  {
   "cell_type": "code",
   "execution_count": null,
   "metadata": {},
   "outputs": [],
   "source": []
  }
 ],
 "metadata": {
  "anaconda-cloud": {},
  "colab": {
   "name": "z1_zmienne_operatory.ipynb",
   "provenance": []
  },
  "kernelspec": {
   "display_name": "Python 3 (ipykernel)",
   "language": "python",
   "name": "python3"
  },
  "language_info": {
   "codemirror_mode": {
    "name": "ipython",
    "version": 3
   },
   "file_extension": ".py",
   "mimetype": "text/x-python",
   "name": "python",
   "nbconvert_exporter": "python",
   "pygments_lexer": "ipython3",
   "version": "3.8.5"
  }
 },
 "nbformat": 4,
 "nbformat_minor": 1
}
